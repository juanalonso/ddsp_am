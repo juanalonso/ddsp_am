{
  "nbformat": 4,
  "nbformat_minor": 0,
  "metadata": {
    "colab": {
      "name": "60_explore_params_FM",
      "private_outputs": true,
      "provenance": [],
      "collapsed_sections": [
        "wD69DaN29b-3",
        "8TY_tQvB9onv",
        "O14-3wsB9Smw",
        "OivWN3mKnQ_i"
      ]
    },
    "kernelspec": {
      "name": "python3",
      "display_name": "Python 3"
    },
    "language_info": {
      "name": "python"
    },
    "accelerator": "GPU"
  },
  "cells": [
    {
      "cell_type": "code",
      "metadata": {
        "id": "wYeMytXv74e7"
      },
      "source": [
        "USE_PRIVATE_DISTRO = True\n",
        "\n",
        "DRIVE_BASE_DIR = '/content/drive/MyDrive/SMC 10/DDSP-10/'\n",
        "\n",
        "if USE_PRIVATE_DISTRO:\n",
        "    print(\"[INFO] Using private distro. Be careful.\")\n",
        "    from google.colab import drive\n",
        "    drive.mount('/content/drive')\n",
        "    !pip install -qU /content/drive/MyDrive/SMC\\ 10/DDSP-10/dist/ddsp-1.2.0.tar.gz\n",
        "else:\n",
        "    !pip install -qU ddsp"
      ],
      "execution_count": null,
      "outputs": []
    },
    {
      "cell_type": "code",
      "metadata": {
        "id": "etpyZR5jW6tB"
      },
      "source": [
        "modelname = 'vae_3layers_10' #@param {type: \"string\"}\n"
      ],
      "execution_count": null,
      "outputs": []
    },
    {
      "cell_type": "markdown",
      "metadata": {
        "id": "wD69DaN29b-3"
      },
      "source": [
        "#Import libraries"
      ]
    },
    {
      "cell_type": "code",
      "metadata": {
        "id": "nw7Gf5WIV4kq"
      },
      "source": [
        "import keras\n",
        "from keras import layers\n",
        "from keras import backend\n",
        "from keras import losses\n",
        "\n",
        "import tensorflow as tf\n",
        "\n",
        "import numpy as np\n",
        "\n",
        "from ddsp import synths\n",
        "from ddsp.colab import colab_utils\n",
        "from ddsp import core\n",
        "\n",
        "import seaborn as sns\n",
        "from matplotlib import pyplot as plt\n",
        "sns.set(style=\"whitegrid\")\n",
        "%config InlineBackend.figure_format='retina'"
      ],
      "execution_count": null,
      "outputs": []
    },
    {
      "cell_type": "markdown",
      "metadata": {
        "id": "8TY_tQvB9onv"
      },
      "source": [
        "#Load autoencoder"
      ]
    },
    {
      "cell_type": "code",
      "metadata": {
        "id": "sKT_VyRDll95"
      },
      "source": [
        "autoencoder  = keras.models.load_model(DRIVE_BASE_DIR + 'models/' + modelname)\n",
        "encoder_nn = keras.Model(autoencoder.inputs, autoencoder.layers[1].outputs, name='encoder')\n",
        "decoder_nn = keras.Model(autoencoder.layers[2].inputs, autoencoder.layers[2].outputs, name='decoder')\n",
        "\n",
        "USE_VAE = len(autoencoder.layers[1].outputs)==3"
      ],
      "execution_count": null,
      "outputs": []
    },
    {
      "cell_type": "markdown",
      "metadata": {
        "id": "O14-3wsB9Smw"
      },
      "source": [
        "# Generate synthetic dataset"
      ]
    },
    {
      "cell_type": "code",
      "metadata": {
        "id": "RCLv5S1ksxMf"
      },
      "source": [
        "SAMPLE_RATE = 48000\n",
        "DURATION = 20\n",
        "\n",
        "N_SAMPLES = int(SAMPLE_RATE * DURATION)\n",
        "\n",
        "fm_synth = synths.FrequencyModulation(n_samples=N_SAMPLES,\n",
        "                                      sample_rate=SAMPLE_RATE)\n",
        "\n",
        "algorithms = [[1,0,0,0], [1,0,0,0], [1,0,0,0], [1,0,0,0], [1,0,0,0],\n",
        "              [1,1,0,0], [1,1,0,0], [1,1,0,0], [1,1,0,0], [1,1,0,0], \n",
        "              [1,1,1,0], [1,1,1,0], [1,1,1,0],\n",
        "              [1,1,1,1]] \n",
        "\n",
        "connections=[[43,32,21],[42,32,21],[42,31,21],[43,42,31,21],[41,31,21],\n",
        "             [42,31],[42,32],[42,32,31],[43,32],[43,32,31],\n",
        "             [43],[43,42],[43,42,41],\n",
        "             []]\n",
        "\n",
        "mods = {'21':0, '31':0, '32':0, '41':0, '42':0, '43':0}"
      ],
      "execution_count": null,
      "outputs": []
    },
    {
      "cell_type": "code",
      "metadata": {
        "id": "yR1ay3s1W38P"
      },
      "source": [
        "DATA_SIZE = 20000\n",
        "TRAIN_SIZE = 8*DATA_SIZE//10\n",
        "TEST_SIZE = DATA_SIZE - TRAIN_SIZE\n",
        "\n",
        "patch_x = []\n",
        "patch_y = []\n",
        "\n",
        "for patch in range(DATA_SIZE):\n",
        "\n",
        "  current_patch=[]\n",
        "  current_algorithm = np.random.randint(len(algorithms))\n",
        "\n",
        "  #Operators\n",
        "  for f in range(4):\n",
        "\n",
        "    #amp [0, 1]\n",
        "    amp = float(algorithms[current_algorithm][f])\n",
        "    current_patch.append(amp)\n",
        "\n",
        "    #index [0.25, 0.5, ..., 12] -> [1/48, 2/48, ..., 48/48]\n",
        "    index = 4.0 if f==0 else np.random.randint(1,49)\n",
        "    index = index/48.0\n",
        "    current_patch.append(index)\n",
        "    \n",
        "    #env [0..1)\n",
        "    current_patch += np.random.random(1).tolist()\n",
        "\n",
        "  #Modulators\n",
        "  #mods [0, 0.5, 1, ..., 12, 12.5] -> [0, 1/25, 2/25, ..., 25/25]\n",
        "  for modulator in mods.keys():\n",
        "    if int(modulator) in connections[current_algorithm]:\n",
        "      mods[modulator] = np.random.randint(0,26)/25.0\n",
        "    else:\n",
        "      mods[modulator] = 0\n",
        "\n",
        "  current_patch += [mods['21'], mods['31'], mods['32'], mods['41'], mods['42'], mods['43']]\n",
        "\n",
        "  patch_x.append(current_patch)\n",
        "  patch_y.append(current_algorithm)\n",
        "\n",
        "patch_x = np.array(patch_x)\n",
        "patch_y = np.array(patch_y)\n"
      ],
      "execution_count": null,
      "outputs": []
    },
    {
      "cell_type": "markdown",
      "metadata": {
        "id": "OivWN3mKnQ_i"
      },
      "source": [
        "# Encode dataset"
      ]
    },
    {
      "cell_type": "code",
      "metadata": {
        "id": "oXOafl9GXqz7"
      },
      "source": [
        "if USE_VAE:\n",
        "  _, _, encoded_data = encoder_nn.predict(patch_x)\n",
        "else:\n",
        "  encoded_data = encoder_nn.predict(patch_x)\n",
        "  \n",
        "decoded_data = decoder_nn.predict(encoded_data)"
      ],
      "execution_count": null,
      "outputs": []
    },
    {
      "cell_type": "markdown",
      "metadata": {
        "id": "l9h7Mkwh9yUX"
      },
      "source": [
        "#Plot results"
      ]
    },
    {
      "cell_type": "code",
      "metadata": {
        "id": "XJ1FPB8SfV0I"
      },
      "source": [
        "x_from = 0 if USE_VAE else 0\n",
        "x_to = 0 if USE_VAE else 15\n",
        "\n",
        "y_from = 3 if USE_VAE else 6\n",
        "y_to = -3 if USE_VAE else 6\n",
        "\n",
        "samples = np.linspace(start=[x_from,y_from], stop=[x_to,y_to], num=100)\n",
        "predicted = decoder_nn.predict(samples)"
      ],
      "execution_count": null,
      "outputs": []
    },
    {
      "cell_type": "code",
      "metadata": {
        "id": "EExow3FWqnh4"
      },
      "source": [
        "plt.figure(figsize=(15, 8))\n",
        "# plt.gca().set_aspect('equal', adjustable='box')\n",
        "plt.set_cmap('jet')\n",
        "plt.scatter(encoded_data[:,0], encoded_data[:,1], c=patch_y, s=1, alpha=0.6, zorder=1)\n",
        "plt.plot([x_from,x_to],[y_from,y_to], c='white', linewidth=6, alpha=0.75, zorder=2)\n",
        "plt.plot([x_from,x_to],[y_from,y_to], c='black', linewidth=2, zorder=3)\n",
        "plt.scatter([x_from,x_to],[y_from,y_to], c='white', s=100, edgecolors='black', linewidth=2, zorder=4)\n",
        "\n",
        "plt.colorbar()\n",
        "plt.clim(1,14)\n",
        "plt.show()\n",
        "\n",
        "f, ax = plt.subplots(2, 2, figsize=(15, 5), sharex=True)\n",
        "\n",
        "ax[0][0].set_title('Output levels')\n",
        "for f in range(4):\n",
        "  ax[0][0].plot(predicted[:,f*3])\n",
        "ax[0][0].legend(['$A_1$','$A_2$','$A_3$','$A_4$'])\n",
        "\n",
        "ax[0][1].set_title('Freq. factor')\n",
        "for f in range(4):\n",
        "  ax[0][1].plot(predicted[:,f*3+1])\n",
        "ax[0][1].legend(['$I_1$','$I_2$','$I_3$','$I_4$'])\n",
        "\n",
        "ax[1][0].set_title('Envelopes')\n",
        "for f in range(4):\n",
        "  ax[1][0].plot(predicted[:,f*3+2])\n",
        "ax[1][0].legend(['$E_1$','$E_2$','$E_3$','$E_4$'])\n",
        "\n",
        "ax[1][1].set_title('Modulators')\n",
        "for f in range(6):\n",
        "  ax[1][1].plot(predicted[:,12+f])\n",
        "ax[1][1].legend(['$M_{2,1}$', '$M_{3,1}$', '$M_{3,2}$', '$M_{4,1}$', '$M_{4,2}$', '$M_{4,3}$'])\n",
        "plt.show()"
      ],
      "execution_count": null,
      "outputs": []
    },
    {
      "cell_type": "markdown",
      "metadata": {
        "id": "0yI4SHgAs615"
      },
      "source": [
        "#Synthesize audio"
      ]
    },
    {
      "cell_type": "code",
      "metadata": {
        "id": "JuFT0DnGs7or"
      },
      "source": [
        "raise Exception(\"Stop right now!!!\") "
      ],
      "execution_count": null,
      "outputs": []
    },
    {
      "cell_type": "code",
      "metadata": {
        "id": "6GkimC3dtQhO"
      },
      "source": [
        "def expand(t):\n",
        "  t = tf.expand_dims(t, axis=0)\n",
        "  t = tf.expand_dims(t, axis=0)\n",
        "  return t\n",
        "\n",
        "def patch_to_tensor(f0_hz, patch):\n",
        "  patch = np.array(patch)\n",
        "  f0 = expand(tf.expand_dims(tf.convert_to_tensor(f0_hz, dtype=tf.float32), axis=0))\n",
        "  op1 = expand(tf.convert_to_tensor(patch[0:3]*[1,4.5,1], dtype=tf.float32))\n",
        "  op2 = expand(tf.convert_to_tensor(patch[3:6]*[1,4.5,1], dtype=tf.float32))\n",
        "  op3 = expand(tf.convert_to_tensor(patch[6:9]*[1,4.5,1], dtype=tf.float32))\n",
        "  op4 = expand(tf.convert_to_tensor(patch[9:12]*[1,4.5,1], dtype=tf.float32))\n",
        "  modulators = expand(tf.convert_to_tensor(patch[12:]*11, dtype=tf.float32))\n",
        "  return f0, op1, op2, op3, op4, modulators"
      ],
      "execution_count": null,
      "outputs": []
    },
    {
      "cell_type": "code",
      "metadata": {
        "id": "g788wj9b_V8J"
      },
      "source": [
        "# Direct interpolation between patches\n",
        "\n",
        "current_patch = patch_x[np.random.randint(len(patch_x))]\n",
        "f0, op1, op2, op3, op4, modulators = patch_to_tensor(440, current_patch)\n",
        "\n",
        "for f in range(9):\n",
        "  current_patch = patch_x[np.random.randint(len(patch_x))]\n",
        "  f0_temp, op1_temp, op2_temp, op3_temp, op4_temp, modulators_temp = patch_to_tensor(440, current_patch)\n",
        "  f0 = tf.concat([f0, f0_temp, f0_temp, f0_temp], axis=1)\n",
        "  op1 = tf.concat([op1, op1_temp, op1_temp, op1_temp], axis=1)\n",
        "  op2 = tf.concat([op2, op2_temp, op2_temp, op2_temp], axis=1)\n",
        "  op3 = tf.concat([op3, op3_temp, op3_temp, op3_temp], axis=1)\n",
        "  op4 = tf.concat([op4, op4_temp, op4_temp, op4_temp], axis=1)\n",
        "  modulators = tf.concat([modulators, modulators_temp, modulators_temp, modulators_temp], axis=1)\n",
        "\n",
        "audio = fm_synth(f0, op1, op2, op3, op4, modulators)\n",
        "audio /= tf.reduce_max(audio[0,:], axis=0).numpy()*1.5\n",
        "colab_utils.play(audio, sample_rate=SAMPLE_RATE, autoplay=True)\n",
        "\n",
        "colab_utils.specplot(audio)"
      ],
      "execution_count": null,
      "outputs": []
    },
    {
      "cell_type": "code",
      "metadata": {
        "id": "fxoJ0awPu2rt"
      },
      "source": [
        "# Going in circles around Z\n",
        "\n",
        "num_steps = 4\n",
        "\n",
        "rads = np.linspace(0,2*np.pi,num_steps, endpoint=False)\n",
        "x = np.cos(rads)*2.0\n",
        "y = np.sin(rads)*2.0\n",
        "\n",
        "f0, op1, op2, op3, op4, modulators = patch_to_tensor(440, decoder_nn.predict([[x[0],y[0]]])[0])\n",
        "for f in range(1, num_steps):\n",
        "  f0_temp, op1_temp, op2_temp, op3_temp, op4_temp, modulators_temp = patch_to_tensor(440, decoder_nn.predict([[x[f],y[f]]])[0])\n",
        "  f0 = tf.concat([f0, f0_temp], axis=1)\n",
        "  op1 = tf.concat([op1, op1_temp], axis=1)\n",
        "  op2 = tf.concat([op2, op2_temp], axis=1)\n",
        "  op3 = tf.concat([op3, op3_temp], axis=1)\n",
        "  op4 = tf.concat([op4, op4_temp], axis=1)\n",
        "  modulators = tf.concat([modulators, modulators_temp], axis=1)\n",
        "\n",
        "audio = fm_synth(f0, op1, op2, op3, op4, modulators)\n",
        "audio /= tf.reduce_max(audio[0,:], axis=0).numpy()*1.5\n",
        "colab_utils.play(audio, sample_rate=SAMPLE_RATE, autoplay=True)\n",
        "\n",
        "colab_utils.specplot(audio)"
      ],
      "execution_count": null,
      "outputs": []
    },
    {
      "cell_type": "code",
      "metadata": {
        "id": "AUe9Xj3T_RZJ"
      },
      "source": [
        ""
      ],
      "execution_count": null,
      "outputs": []
    }
  ]
}