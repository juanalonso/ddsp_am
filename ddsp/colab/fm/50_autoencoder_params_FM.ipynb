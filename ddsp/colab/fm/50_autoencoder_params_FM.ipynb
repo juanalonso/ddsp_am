{
  "nbformat": 4,
  "nbformat_minor": 0,
  "metadata": {
    "colab": {
      "name": "50_autoencoder_params_FM",
      "private_outputs": true,
      "provenance": [],
      "collapsed_sections": [],
      "authorship_tag": "ABX9TyOah9aL39373Hw2jxk37mK4"
    },
    "kernelspec": {
      "name": "python3",
      "display_name": "Python 3"
    },
    "language_info": {
      "name": "python"
    },
    "accelerator": "GPU"
  },
  "cells": [
    {
      "cell_type": "code",
      "metadata": {
        "id": "wYeMytXv74e7"
      },
      "source": [
        "USE_PRIVATE_DISTRO = True\n",
        "\n",
        "DRIVE_BASE_DIR = '/content/drive/MyDrive/SMC 10/DDSP-10/'\n",
        "\n",
        "if USE_PRIVATE_DISTRO:\n",
        "    print(\"[INFO] Using private distro. Be careful.\")\n",
        "    from google.colab import drive\n",
        "    drive.mount('/content/drive')\n",
        "    !pip install -qU /content/drive/MyDrive/SMC\\ 10/DDSP-10/dist/ddsp-1.2.0.tar.gz\n",
        "else:\n",
        "    !pip install -qU ddsp"
      ],
      "execution_count": null,
      "outputs": []
    },
    {
      "cell_type": "markdown",
      "metadata": {
        "id": "wD69DaN29b-3"
      },
      "source": [
        "#Import libraries"
      ]
    },
    {
      "cell_type": "code",
      "metadata": {
        "id": "nw7Gf5WIV4kq"
      },
      "source": [
        "import keras\n",
        "from keras import layers\n",
        "from keras import backend\n",
        "from keras import losses\n",
        "\n",
        "import tensorflow as tf\n",
        "\n",
        "import numpy as np\n",
        "\n",
        "from ddsp import synths\n",
        "from ddsp.colab import colab_utils\n",
        "\n",
        "import seaborn as sns\n",
        "from matplotlib import pyplot as plt\n",
        "sns.set(style=\"whitegrid\")\n",
        "%config InlineBackend.figure_format='retina'"
      ],
      "execution_count": null,
      "outputs": []
    },
    {
      "cell_type": "markdown",
      "metadata": {
        "id": "O14-3wsB9Smw"
      },
      "source": [
        "# Generate synthetic dataset"
      ]
    },
    {
      "cell_type": "code",
      "metadata": {
        "id": "RCLv5S1ksxMf"
      },
      "source": [
        "SAMPLE_RATE = 48000\n",
        "DURATION = 4\n",
        "\n",
        "N_SAMPLES = SAMPLE_RATE * DURATION\n",
        "\n",
        "fm_synth = synths.FrequencyModulation(n_samples=N_SAMPLES,\n",
        "                                      sample_rate=SAMPLE_RATE,\n",
        "                                      amp_scale_fn=None)\n",
        "\n",
        "algorithms = [[1,0,0,0], [1,0,0,0], [1,0,0,0], \n",
        "              [1,1,0,0], [1,1,0,0], [1,1,0,0], \n",
        "              [1,1,0,0], [1,1,1,0], [1,1,1,0], \n",
        "              [1,1,1,0], [1,1,1,1], [1,0,0,0], \n",
        "              [1,0,0,0]] \n",
        "\n",
        "connections=[[43,32,21],[42,32,21],[21,31,43],\n",
        "            [32,43],[31,42],[32,42],\n",
        "            [31,32,43],[41],[41,42],\n",
        "            [41,42,43],[],[21,31,41],\n",
        "            [21,31,42,43]]\n",
        "\n",
        "mods = {'21':0, '31':0, '32':0, '41':0, '42':0, '43':0}"
      ],
      "execution_count": null,
      "outputs": []
    },
    {
      "cell_type": "code",
      "metadata": {
        "id": "yR1ay3s1W38P"
      },
      "source": [
        "DATA_SIZE = 100000\n",
        "TRAIN_SIZE = 8*DATA_SIZE//10\n",
        "TEST_SIZE = DATA_SIZE - TRAIN_SIZE\n",
        "\n",
        "patch_x = []\n",
        "patch_y = []\n",
        "\n",
        "for patch in range(DATA_SIZE):\n",
        "\n",
        "  current_patch=[]\n",
        "  current_algorithm = np.random.randint(13)\n",
        "\n",
        "  #Operators\n",
        "  for f in range(4):\n",
        "    amp = float(algorithms[current_algorithm][f])\n",
        "    current_patch.append(amp)\n",
        "    index = 1.0/4.5 if f==0 else np.random.randint(1,10)*0.5/4.5\n",
        "    current_patch.append(index)\n",
        "    current_patch += np.random.random(2).tolist()\n",
        "\n",
        "  #Modulators\n",
        "  for modulator in mods.keys():\n",
        "    if int(modulator) in connections[current_algorithm]:\n",
        "      mods[modulator] = float(np.random.randint(0,12))\n",
        "    else:\n",
        "      mods[modulator] = 0\n",
        "\n",
        "  current_patch += [mods['21']/11.0, mods['31']/11.0, mods['32']/11.0, mods['41']/11.0, mods['42']/11.0, mods['43']/11.0]\n",
        "\n",
        "  patch_x.append(current_patch)\n",
        "  patch_y.append(current_algorithm)\n",
        "\n",
        "patch_x = np.array(patch_x)\n",
        "patch_y = np.array(patch_y)\n",
        "\n",
        "x_train = patch_x[:TRAIN_SIZE,:]\n",
        "y_train = patch_y[:TRAIN_SIZE]\n",
        "\n",
        "x_test = patch_x[-TEST_SIZE:,:]\n",
        "y_test = patch_y[-TEST_SIZE:]"
      ],
      "execution_count": null,
      "outputs": []
    },
    {
      "cell_type": "markdown",
      "metadata": {
        "id": "8TY_tQvB9onv"
      },
      "source": [
        "#Define autoencoder"
      ]
    },
    {
      "cell_type": "code",
      "metadata": {
        "id": "etpyZR5jW6tB"
      },
      "source": [
        "USE_VAE = True\n",
        "\n",
        "LATENT_DIMS = 2\n",
        "PARAMETERS = 22\n",
        "\n",
        "UNITS_HIDDEN_LAYER = 64"
      ],
      "execution_count": null,
      "outputs": []
    },
    {
      "cell_type": "code",
      "metadata": {
        "id": "ZZSSRjCyKm8p"
      },
      "source": [
        "def sampling(args):\n",
        "  z_mean, z_log_sigma = args\n",
        "  epsilon = backend.random_normal(shape=backend.shape(z_mean), stddev=0.1)\n",
        "  return z_mean + backend.exp(0.5 * z_log_sigma) * epsilon"
      ],
      "execution_count": null,
      "outputs": []
    },
    {
      "cell_type": "code",
      "metadata": {
        "id": "p9n7HqEW-Q_J"
      },
      "source": [
        "#common for both models\n",
        "input_encoder = keras.Input(shape=(PARAMETERS,), name='input_encoder')\n",
        "encoder = layers.Dense(UNITS_HIDDEN_LAYER, activation='relu')(input_encoder)\n",
        "\n",
        "if USE_VAE:\n",
        "  z_mean = layers.Dense(LATENT_DIMS, name='mean')(encoder)\n",
        "  z_log_sigma = layers.Dense(LATENT_DIMS, name='log_sigma')(encoder)\n",
        "  z = layers.Lambda(sampling, name='z')([z_mean, z_log_sigma])\n",
        "  encoder_nn = keras.Model(input_encoder, [z_mean, z_log_sigma, z], name='encoder')\n",
        "else:\n",
        "  encoder = layers.Dense(LATENT_DIMS, activation='relu', name='z')(encoder)\n",
        "  encoder_nn = keras.Model(input_encoder, encoder, name='encoder')\n",
        "\n",
        "#common for both models\n",
        "input_decoder=keras.Input(shape=(LATENT_DIMS,), name='input_decoder')\n",
        "decoder = layers.Dense(UNITS_HIDDEN_LAYER, activation='relu')(input_decoder)\n",
        "decoder = layers.Dense(PARAMETERS, activation='sigmoid', name='decoder_output')(decoder)\n",
        "decoder_nn = keras.Model(input_decoder, decoder, name='decoder')\n",
        "\n",
        "if USE_VAE:\n",
        "  output_decoder = decoder_nn(encoder_nn(input_encoder)[2])\n",
        "else:\n",
        "  output_decoder = decoder_nn(encoder_nn(input_encoder))\n",
        "\n",
        "#common for both models\n",
        "autoencoder = keras.Model(input_encoder,output_decoder, name='autoencoder')\n",
        "\n",
        "reconstruction_loss = losses.binary_crossentropy(input_encoder, output_decoder)\n",
        "# reconstruction_loss = losses.mse(input_encoder, output_decoder)\n",
        "reconstruction_loss *= PARAMETERS\n",
        "        \n",
        "if USE_VAE:\n",
        "  kl_loss = 1 + z_log_sigma - backend.square(z_mean) - backend.exp(z_log_sigma)\n",
        "  kl_loss = backend.sum(kl_loss, axis=-1)\n",
        "  kl_loss *= -0.5\n",
        "  loss = backend.mean(reconstruction_loss + kl_loss)\n",
        "else:\n",
        "  loss = reconstruction_loss\n",
        "\n",
        "autoencoder.add_loss(loss)\n",
        "autoencoder.compile(optimizer='adam')\n",
        "\n",
        "# autoencoder.summary()\n",
        "# encoder_nn.summary()\n",
        "# decoder_nn.summary()"
      ],
      "execution_count": null,
      "outputs": []
    },
    {
      "cell_type": "markdown",
      "metadata": {
        "id": "jhzIaWjw9t7m"
      },
      "source": [
        "#Train autoencoder"
      ]
    },
    {
      "cell_type": "code",
      "metadata": {
        "id": "AxKUEIO2cCmz"
      },
      "source": [
        "_ = autoencoder.fit(x_train, x_train,\n",
        "                epochs=300,\n",
        "                batch_size=256,\n",
        "                shuffle=True,\n",
        "                validation_data=(x_test, x_test))"
      ],
      "execution_count": null,
      "outputs": []
    },
    {
      "cell_type": "markdown",
      "metadata": {
        "id": "l9h7Mkwh9yUX"
      },
      "source": [
        "#Analyse results"
      ]
    },
    {
      "cell_type": "code",
      "metadata": {
        "id": "oXOafl9GXqz7"
      },
      "source": [
        "if USE_VAE:\n",
        "  mean, log_sigma, encoded_data = encoder_nn.predict(x_test)\n",
        "else:\n",
        "  encoded_data = encoder_nn.predict(x_test)\n",
        "  \n",
        "decoded_data = decoder_nn.predict(encoded_data)"
      ],
      "execution_count": null,
      "outputs": []
    },
    {
      "cell_type": "code",
      "metadata": {
        "id": "wN9toAjzefqO"
      },
      "source": [
        "element = np.random.randint(x_test.shape[0])\n",
        "for f in range(PARAMETERS):\n",
        "  if f in [0,4,8,12]:\n",
        "    print(\"op {}\".format(1+f//4))\n",
        "  if f==16:\n",
        "    print(\"mods\")\n",
        "  print('\\t{:.2f}\\t{:.2f}'.format(x_test[element][f],decoded_data[element][f]))"
      ],
      "execution_count": null,
      "outputs": []
    },
    {
      "cell_type": "code",
      "metadata": {
        "id": "XJ1FPB8SfV0I"
      },
      "source": [
        "x_from = -1\n",
        "x_to = 1\n",
        "\n",
        "y_from = 2\n",
        "y_to = -2\n",
        "\n",
        "# decoder_nn.predict([[x_from,y_from], [x_to,y_to]])\n",
        "samples = np.linspace(start=[x_from,y_from], stop=[x_to,y_to], num=1500)\n",
        "# samples\n",
        "predicted = decoder_nn.predict(samples)"
      ],
      "execution_count": null,
      "outputs": []
    },
    {
      "cell_type": "code",
      "metadata": {
        "id": "EExow3FWqnh4"
      },
      "source": [
        "plt.figure(figsize=(12, 6))\n",
        "# plt.gca().set_aspect('equal', adjustable='box')\n",
        "plt.set_cmap('jet')\n",
        "plt.scatter(encoded_data[:,0], encoded_data[:,1], c=y_test, s=1, alpha=0.6)\n",
        "plt.scatter([x_from,x_to],[y_from,y_to], c='white', s=100, edgecolors='black')\n",
        "\n",
        "plt.colorbar()\n",
        "plt.show()\n",
        "\n",
        "f, ax = plt.subplots(2, 2, figsize=(12, 6), sharex=True)\n",
        "\n",
        "ax[0][0].set_title('Amp')\n",
        "for f in range(4):\n",
        "  ax[0][0].plot(predicted[:,f*4])\n",
        "\n",
        "ax[0][1].set_title('Index')\n",
        "for f in range(4):\n",
        "  ax[0][1].plot(predicted[:,f*4+1])\n",
        "\n",
        "ax[1][0].set_title('delta AR')\n",
        "for f in range(4):\n",
        "  ax[1][0].plot(predicted[:,f*4+2]-predicted[:,f*4+3])\n",
        "\n",
        "ax[1][1].set_title('Modulators')\n",
        "for f in range(6):\n",
        "  ax[1][1].plot(predicted[:,16+f])\n",
        "plt.show()"
      ],
      "execution_count": null,
      "outputs": []
    },
    {
      "cell_type": "code",
      "metadata": {
        "id": "LH-Z_Be8cvk0"
      },
      "source": [
        "if USE_VAE:\n",
        "  plt.figure(figsize=(12, 6))\n",
        "  plt.set_cmap('jet')\n",
        "  plt.scatter(mean[:,0], mean[:,1], c=y_test, s=2, alpha=0.6)\n",
        "  plt.colorbar()\n",
        "  plt.show()"
      ],
      "execution_count": null,
      "outputs": []
    },
    {
      "cell_type": "code",
      "metadata": {
        "id": "qCk_kJztfgxU"
      },
      "source": [
        "raise Exception(\"Stop right now!!!\") "
      ],
      "execution_count": null,
      "outputs": []
    },
    {
      "cell_type": "markdown",
      "metadata": {
        "id": "86Ji_tFn8g3R"
      },
      "source": [
        "#Save full model"
      ]
    },
    {
      "cell_type": "code",
      "metadata": {
        "id": "6JkbfXJC5eLg"
      },
      "source": [
        "modelname = 'vae_params_std01' #@param {type: \"string\"}"
      ],
      "execution_count": null,
      "outputs": []
    },
    {
      "cell_type": "code",
      "metadata": {
        "id": "p7j_9oG38eo7"
      },
      "source": [
        "autoencoder.save(DRIVE_BASE_DIR + 'models/' + modelname)"
      ],
      "execution_count": null,
      "outputs": []
    }
  ]
}