{
  "nbformat": 4,
  "nbformat_minor": 0,
  "metadata": {
    "accelerator": "GPU",
    "colab": {
      "name": "40 timbre transfer AM",
      "provenance": [],
      "collapsed_sections": []
    },
    "kernelspec": {
      "display_name": "Python 3",
      "name": "python3"
    }
  },
  "cells": [
    {
      "cell_type": "markdown",
      "metadata": {
        "id": "ZFIqwYGbZ-df"
      },
      "source": [
        "# Timbre transfer\n",
        "\n"
      ]
    },
    {
      "cell_type": "code",
      "metadata": {
        "id": "S_jXCnwZ2QYW"
      },
      "source": [
        "USE_PRIVATE_DISTRO = True\n",
        "\n",
        "DRIVE_BASE_DIR = '/content/drive/MyDrive/SMC 10/DDSP-10/' \n",
        "DRIVE_DISTRO = DRIVE_BASE_DIR + 'dist/ddsp-1.2.0.tar.gz'\n",
        "\n",
        "if USE_PRIVATE_DISTRO:\n",
        "    print(\"[INFO] Using private distro.\")\n",
        "    from google.colab import drive\n",
        "    drive.mount('/content/drive')\n",
        "    !pip install -qU \"$DRIVE_DISTRO\"\n",
        "else:\n",
        "    !pip install -qU ddsp\n",
        "\n",
        "import warnings\n",
        "import gin\n",
        "\n",
        "import tensorflow as tf\n",
        "\n",
        "%reload_ext tensorboard\n",
        "import tensorboard as tb\n",
        "\n",
        "import seaborn as sns\n",
        "import matplotlib.pyplot as plt\n",
        "%config InlineBackend.figure_format='retina'\n",
        "\n",
        "from ddsp.colab.colab_utils import specplot\n",
        "from ddsp.colab.colab_utils import play\n",
        "from ddsp.training import data\n",
        "from ddsp.training import models\n",
        "from ddsp import core"
      ],
      "execution_count": null,
      "outputs": []
    },
    {
      "cell_type": "markdown",
      "metadata": {
        "id": "zpetvejYO0KQ"
      },
      "source": [
        "#### Configuration"
      ]
    },
    {
      "cell_type": "code",
      "metadata": {
        "id": "mkFYv_DUZ7lW"
      },
      "source": [
        "SAMPLE_RATE = 48000\n",
        "DURATION = 4\n",
        "FRAME_RATE = 250\n",
        "\n",
        "TIME_STEPS = FRAME_RATE * DURATION\n",
        "N_SAMPLES = SAMPLE_RATE * DURATION\n",
        "\n",
        "MOD_FREQ = 125\n",
        "\n",
        "INSTRUMENT = 'sr{}k_mf{}_fr{}'.format(SAMPLE_RATE//1000, MOD_FREQ, FRAME_RATE)\n",
        "\n",
        "sns.set(style=\"whitegrid\")\n",
        "warnings.filterwarnings(\"ignore\")\n",
        "\n",
        "OUTPUT_FOLDER = 'modulator' #@param {type: \"string\"}\n",
        "\n",
        "DRIVE_CHECKPOINTS_DIR = DRIVE_BASE_DIR + 'audio/' + OUTPUT_FOLDER + '/' + \\\n",
        "                         INSTRUMENT + '_checkpoints/'\n",
        "\n",
        "DRIVE_TFRECORD_PATTERN = DRIVE_BASE_DIR + 'audio/' + OUTPUT_FOLDER + '/' + \\\n",
        "                         INSTRUMENT + '_dataset/train.synthrecord*'\n",
        "\n",
        "!mkdir -p \"$DRIVE_CHECKPOINTS_DIR\""
      ],
      "execution_count": null,
      "outputs": []
    },
    {
      "cell_type": "markdown",
      "metadata": {
        "id": "Op0V8onI0VUK"
      },
      "source": [
        "#### Start Tensorboard"
      ]
    },
    {
      "cell_type": "code",
      "metadata": {
        "id": "hBvbrMQvGzK9"
      },
      "source": [
        "tb.notebook.start('--logdir \"{}\"'.format(DRIVE_CHECKPOINTS_DIR))"
      ],
      "execution_count": null,
      "outputs": []
    },
    {
      "cell_type": "markdown",
      "metadata": {
        "id": "Q9D9ozX6PAXB"
      },
      "source": [
        "#### Train the model"
      ]
    },
    {
      "cell_type": "code",
      "metadata": {
        "id": "VDGtUMk3PGGy"
      },
      "source": [
        "!ddsp_run \\\n",
        "  --mode=train \\\n",
        "  --alsologtostderr \\\n",
        "  --save_dir=\"$DRIVE_CHECKPOINTS_DIR\" \\\n",
        "  --gin_file=models/am_simple.gin \\\n",
        "  --gin_file=datasets/synthrecord.gin \\\n",
        "  --gin_param=\"SynthRecordProvider.file_pattern='$DRIVE_TFRECORD_PATTERN'\" \\\n",
        "  --gin_param=\"SynthRecordProvider.sample_rate=$SAMPLE_RATE\" \\\n",
        "  --gin_param=\"SynthRecordProvider.frame_rate=$FRAME_RATE\" \\\n",
        "  --gin_param=\"SynthRecordProvider.example_secs=$DURATION\" \\\n",
        "  --gin_param=\"F0MIDILoudnessPreprocessor.time_steps=$TIME_STEPS\" \\\n",
        "  --gin_param=\"FilteredNoise.n_samples=$N_SAMPLES\" \\\n",
        "  --gin_param=\"AmplitudeModulation.n_samples=$N_SAMPLES\" \\\n",
        "  --gin_param=\"AmplitudeModulation.sample_rate=$SAMPLE_RATE\" \\\n",
        "  --gin_param=\"train_util.train.batch_size=7\" \\\n",
        "  --gin_param=\"train_util.train.num_steps=20000\" \\\n",
        "  --gin_param=\"train_util.train.steps_per_save=100\" \\\n",
        "  --gin_param=\"train_util.train.steps_per_summary=50\" \\\n",
        "  --gin_param=\"Trainer.checkpoints_to_keep=2\" \\\n",
        "  --early_stop_loss_value=5.3 \\\n",
        "  # --gin_param=\"Trainer.learning_rate=0.0001\" \\"
      ],
      "execution_count": null,
      "outputs": []
    },
    {
      "cell_type": "markdown",
      "metadata": {
        "id": "Ep_TMUitRz6y"
      },
      "source": [
        "#### Load pretrained model"
      ]
    },
    {
      "cell_type": "code",
      "metadata": {
        "id": "qaS1PmlqR3JB"
      },
      "source": [
        "data_provider_eval = data.SynthRecordProvider(DRIVE_TFRECORD_PATTERN, \n",
        "                                              sample_rate=SAMPLE_RATE,\n",
        "                                              frame_rate=FRAME_RATE,\n",
        "                                              example_secs=DURATION)\n",
        "dataset_eval = data_provider_eval.get_batch(batch_size=1, shuffle=True, repeats=-1)\n",
        "dataset_eval_iter = iter(dataset_eval)\n",
        "\n",
        "gin_file = DRIVE_CHECKPOINTS_DIR + 'operative_config-0.gin'\n",
        "gin.parse_config_file(gin_file)\n",
        "\n",
        "model = models.Autoencoder()\n",
        "model.restore(DRIVE_CHECKPOINTS_DIR)"
      ],
      "execution_count": null,
      "outputs": []
    },
    {
      "cell_type": "code",
      "metadata": {
        "id": "4h_P6PSheECK"
      },
      "source": [
        "frame = next(dataset_eval_iter)\n",
        "audio_baseline = frame['audio']\n",
        "\n",
        "controls = model(frame, training=False)\n",
        "audio_full = model.get_audio_from_outputs(controls)\n",
        "audio_full /= tf.reduce_max(audio_full[0,:], axis=0).numpy()*1.5\n",
        "\n",
        "print('Original Audio')\n",
        "play(audio_baseline, sample_rate=SAMPLE_RATE)\n",
        "\n",
        "print('Full reconstruction')\n",
        "play(audio_full, sample_rate=SAMPLE_RATE)\n",
        "\n",
        "for synth in ['harmonic', 'am', 'filtered_noise']:\n",
        "  if synth in controls:\n",
        "    print('Only ' + synth)\n",
        "    play(controls[synth]['signal'], sample_rate=SAMPLE_RATE)\n",
        "\n",
        "specplot(audio_baseline)\n",
        "specplot(audio_full)\n",
        "\n",
        "get = lambda key: core.nested_lookup(key, controls)[0] #batch 0\n",
        "\n",
        "amps = get('am/controls/amps')\n",
        "mod_amps = get('am/controls/mod_amps')\n",
        "\n",
        "f0 = get('am/controls/f0_hz')\n",
        "mod_f0 = get('am/controls/mod_f0_hz')\n",
        "\n",
        "f, ax = plt.subplots(1, 2, figsize=(10.5, 3))\n",
        "f.suptitle('Inferred controls', fontsize=14)\n",
        "ax[0].plot(amps[50:200])\n",
        "ax[0].plot(mod_amps[50:200])\n",
        "ax[0].set_ylabel('Amplitude')\n",
        "ax[0].legend(['Carrier', 'Modulator'])\n",
        "ax[1].plot(f0, linewidth=1)\n",
        "ax[1].plot(mod_f0)\n",
        "ax[1].plot(get('inputs/f0_hz_midi'), linestyle='--')\n",
        "ax[1].set_ylabel('Freqs')\n",
        "_ = ax[1].legend(['Carrier', 'Modulator', 'MIDI'])"
      ],
      "execution_count": null,
      "outputs": []
    },
    {
      "cell_type": "code",
      "metadata": {
        "id": "7q-rQHL1PAuS"
      },
      "source": [
        "raise SystemExit(\"Stop right there!\")"
      ],
      "execution_count": null,
      "outputs": []
    }
  ]
}