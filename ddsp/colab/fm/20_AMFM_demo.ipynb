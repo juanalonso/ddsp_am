{
  "nbformat": 4,
  "nbformat_minor": 0,
  "metadata": {
    "colab": {
      "name": "20 AM FM synths demo",
      "private_outputs": true,
      "provenance": [],
      "collapsed_sections": [
        "GZyqncEjAfZQ",
        "CEjI7uykAkv4"
      ],
      "authorship_tag": "ABX9TyN6S4D47Z/qqLz7jCbTwS2D"
    },
    "kernelspec": {
      "name": "python3",
      "display_name": "Python 3"
    },
    "accelerator": "GPU"
  },
  "cells": [
    {
      "cell_type": "code",
      "metadata": {
        "id": "ZuXMisxAraKa"
      },
      "source": [
        "USE_PRIVATE_DISTRO = True\n",
        "\n",
        "if USE_PRIVATE_DISTRO:\n",
        "    print(\"[INFO] Using private distro. Be careful.\")\n",
        "    from google.colab import drive\n",
        "    drive.mount('/content/drive')\n",
        "    !pip install -qU /content/drive/MyDrive/SMC\\ 10/DDSP-10/dist/ddsp-1.2.0.tar.gz\n",
        "else:\n",
        "    !pip install -qU ddsp\n",
        "\n",
        "%tensorflow_version 2.x\n",
        "import tensorflow as tf\n",
        "\n",
        "from ddsp.synths import AmplitudeModulation, FrequencyModulation\n",
        "from ddsp.colab.colab_utils import specplot\n",
        "from ddsp import core\n",
        "\n",
        "import seaborn as sns\n",
        "import matplotlib.pyplot as plt\n",
        "sns.set(style=\"whitegrid\")\n",
        "%config InlineBackend.figure_format='retina'\n",
        "\n",
        "import numpy as np\n",
        "import ipywidgets as widgets\n",
        "from IPython.display import display, Audio, clear_output"
      ],
      "execution_count": null,
      "outputs": []
    },
    {
      "cell_type": "markdown",
      "metadata": {
        "id": "VUvTIu_8ngzk"
      },
      "source": [
        "# FM Synth"
      ]
    },
    {
      "cell_type": "code",
      "metadata": {
        "id": "2wqYqxvytKUn"
      },
      "source": [
        "SAMPLE_RATE = 48000\n",
        "DURATION = 2\n",
        "\n",
        "N_SAMPLES = SAMPLE_RATE * DURATION"
      ],
      "execution_count": null,
      "outputs": []
    },
    {
      "cell_type": "markdown",
      "metadata": {
        "id": "GZyqncEjAfZQ"
      },
      "source": [
        "###Definition"
      ]
    },
    {
      "cell_type": "code",
      "metadata": {
        "id": "WuViPjaoP3E1"
      },
      "source": [
        "fm_synth = FrequencyModulation(n_samples=N_SAMPLES,\n",
        "                               sample_rate=SAMPLE_RATE,\n",
        "                               add_endpoint=False)\n",
        "\n",
        "fade = np.linspace(0,1,1000)\n",
        "\n",
        "def synthesize (f0, a1, i1, a2, i2, a3, i3, a4, i4, \n",
        "                m21, m31, m32, m41, m42, m43):\n",
        "  \n",
        "  audio = fm_synth.get_signal([[[f0]]],\n",
        "                              [[[a1, i1]+get_random_ADSR(),[a1, i1]+get_random_ADSR()]], \n",
        "                              [[[a2, i2]+get_random_ADSR(),[a2, i2]+get_random_ADSR()]], \n",
        "                              [[[a3, i3]+get_random_ADSR(),[a3, i3]+get_random_ADSR()]], \n",
        "                              [[[a4, i4]+get_random_ADSR(),[a4, i4]+get_random_ADSR()]],\n",
        "                              [[[m21, m31, m32, m41, m42, m43]]],\n",
        "                              )\n",
        "\n",
        "  audio /= tf.reduce_max(audio[0,:], axis=0)*1.5\n",
        "  audio = audio[0].numpy()\n",
        "  audio[:fade.size] = audio[:fade.size] * fade\n",
        "  audio[-fade.size:] = audio[-fade.size:] * (1-fade)\n",
        "\n",
        "  return audio\n",
        "\n",
        "def render (f0, a1, i1, a2, i2, a3, i3, a4, i4, \n",
        "            m21, m31, m32, m41, m42, m43,\n",
        "            sample_rate=SAMPLE_RATE,\n",
        "            autoplay=False,\n",
        "            context=None):\n",
        "  \n",
        "  audio = synthesize(f0, a1, i1, a2, i2, a3, i3, a4, i4, \n",
        "                m21, m31, m32, m41, m42, m43)\n",
        "  if context is None:\n",
        "    display(Audio(audio, rate=SAMPLE_RATE, autoplay=autoplay))\n",
        "  else:\n",
        "    with context:\n",
        "      clear_output(True)\n",
        "      display(Audio(audio, rate=SAMPLE_RATE, autoplay=autoplay))\n",
        "\n",
        "def get_random_ADSR(n_samples = N_SAMPLES):\n",
        "  env = np.random.random(1).tolist()\n",
        "  return env"
      ],
      "execution_count": null,
      "outputs": []
    },
    {
      "cell_type": "markdown",
      "metadata": {
        "id": "3TZYP5BBvarW"
      },
      "source": [
        "### Test scaling"
      ]
    },
    {
      "cell_type": "code",
      "metadata": {
        "id": "Ie4GSOcVuSgG"
      },
      "source": [
        "fm_no_scaled = FrequencyModulation(n_samples=N_SAMPLES,\n",
        "                                   sample_rate=SAMPLE_RATE,\n",
        "                                   amp_scale_fn=None)\n",
        "\n",
        "fm_scaled = FrequencyModulation(n_samples=N_SAMPLES,\n",
        "                                sample_rate=SAMPLE_RATE,\n",
        "                                index_scale=True,\n",
        "                                ar_scale=True)\n",
        "f0=[[[440]]]\n",
        "op1=np.array([[[1, -10]+get_random_ADSR()]])\n",
        "op2=np.array([[[2, 12]+get_random_ADSR()]])\n",
        "op3=np.array([[[3, 13]+get_random_ADSR()]])\n",
        "op4=np.array([[[4, 14]+get_random_ADSR()]])\n",
        "m=np.array([[[.21, .931, 32, 41, 42, 43]]])\n",
        "\n",
        "controls = fm_no_scaled.get_controls(f0, op1, op2, op3, op4, m)\n",
        "for key in controls:\n",
        "  print(key, controls[key])\n",
        "\n",
        "controls = fm_scaled.get_controls(f0, op1, op2, op3, op4, m)\n",
        "for key in controls:\n",
        "  print(key, controls[key])"
      ],
      "execution_count": null,
      "outputs": []
    },
    {
      "cell_type": "markdown",
      "metadata": {
        "id": "CEjI7uykAkv4"
      },
      "source": [
        "###GUI"
      ]
    },
    {
      "cell_type": "code",
      "metadata": {
        "id": "k9hjxQfZc46P"
      },
      "source": [
        "current_algorithm = 4\n",
        "\n",
        "algorithms = [[1,0,0,0], [1,0,0,0], [1,0,0,0], [1,0,0,0], [1,0,0,0],\n",
        "              [1,1,0,0], [1,1,0,0], [1,1,0,0], [1,1,0,0], [1,1,0,0], \n",
        "              [1,1,1,0], [1,1,1,0], [1,1,1,0],\n",
        "              [1,1,1,1]] \n",
        "\n",
        "connections=[[43,32,21],[42,32,21],[42,31,21],[43,42,31,21],[41,31,21],\n",
        "             [42,31],[42,32],[42,32,31],[43,32],[43,32,31],\n",
        "             [43],[43,42],[43,42,41],\n",
        "             []]\n",
        "\n",
        "mods = {'21':0, '31':0, '32':0, '41':0, '42':0, '43':0}\n",
        "modulators = {\"4\":[], \"3\":[], \"2\":[]}\n",
        "indexes = []\n",
        "voices = []\n",
        "\n",
        "\n",
        "\n",
        "def w_go_clicked(b):\n",
        "  global mods\n",
        "\n",
        "  for f in range(4):\n",
        "    for g in range(f):\n",
        "      if (f+1)*10+g+1 in connections[current_algorithm]:\n",
        "        mods[str((f+1)*10+g+1)] = modulators[str(f+1)][g*2+1].value\n",
        "      else:\n",
        "        mods[str((f+1)*10+g+1)] = 0\n",
        "\n",
        "  render(440, \n",
        "         algorithms[current_algorithm][0], float(indexes[0].value), \n",
        "         algorithms[current_algorithm][1], float(indexes[1].value), \n",
        "         algorithms[current_algorithm][2], float(indexes[2].value), \n",
        "         algorithms[current_algorithm][3], float(indexes[3].value), \n",
        "         mods['21'], mods['31'], mods['32'], \n",
        "         mods['41'], mods['42'], mods['43'],\n",
        "         autoplay = True, context=wave_output)\n",
        "  # if spectrogram:\n",
        "  #   specplot(audio)\n",
        "w_go = widgets.Button(\n",
        "    description='Synthesize audio'\n",
        ")\n",
        "w_go.on_click(w_go_clicked)\n",
        "\n",
        "\n",
        "\n",
        "def w_rand_clicked(b):\n",
        "  global mods\n",
        "\n",
        "  for f in range(4):\n",
        "    if f==1:\n",
        "      indexes[f-1].value = np.random.randint(1,4)*0.5\n",
        "    else:\n",
        "      indexes[f-1].value = np.random.randint(1,24)*0.5\n",
        "    for g in range(f):\n",
        "      modulators[str(f+1)][g*2+1].value = np.random.randint(0,12)\n",
        "      if (f+1)*10+g+1 in connections[current_algorithm]:\n",
        "        mods[str((f+1)*10+g+1)] = modulators[str(f+1)][g*2+1].value\n",
        "      else:\n",
        "        mods[str((f+1)*10+g+1)] = 0\n",
        "\n",
        "  render(440, \n",
        "         algorithms[current_algorithm][0], float(indexes[0].value), \n",
        "         algorithms[current_algorithm][1], float(indexes[1].value), \n",
        "         algorithms[current_algorithm][2], float(indexes[2].value), \n",
        "         algorithms[current_algorithm][3], float(indexes[3].value), \n",
        "         mods['21'], mods['31'], mods['32'], \n",
        "         mods['41'], mods['42'], mods['43'],\n",
        "         autoplay = True, context=wave_output)\n",
        "  # if spectrogram:\n",
        "  #   specplot(audio)\n",
        "w_rand = widgets.Button(\n",
        "    description='Randomize!!!',\n",
        "    button_style='danger'\n",
        ")\n",
        "w_rand.on_click(w_rand_clicked)\n",
        "\n",
        "\n",
        "\n",
        "def w_alg_changed(change):\n",
        "  global current_algorithm\n",
        "\n",
        "  if change['type'] == 'change' and change['name'] == 'value':\n",
        "    current_algorithm = w_alg.index\n",
        "    refresh_gui()\n",
        "\n",
        "w_alg = widgets.Dropdown(\n",
        "    options=[('1   Series', 0), ('2', 1), ('3', 2), \n",
        "            ('4', 3), ('5', 4), ('6', 5),\n",
        "            ('7', 6), ('8', 7), ('9', 8),\n",
        "            ('10   1-to-3', 9), ('11   Parallel', 10), ('12   3-to-1', 11),\n",
        "            ('?1', 12),('?2', 13)],\n",
        "    value=current_algorithm,\n",
        "    description='Algorithm:',\n",
        ")\n",
        "\n",
        "w_alg.observe(w_alg_changed)\n",
        "\n",
        "\n",
        "\n",
        "def refresh_gui():\n",
        "  for f in range(4):\n",
        "    voices[f].value=algorithms[current_algorithm][f]==1\n",
        "    for g in range(f):\n",
        "      if (f+1)*10+g+1 in connections[current_algorithm]:\n",
        "        # modulators[str(f+1)][g*2+1].disabled = False\n",
        "        modulators[str(f+1)][g*2].layout = layout=widgets.Layout(visibility='visible')\n",
        "        modulators[str(f+1)][g*2+1].layout = layout=widgets.Layout(visibility='visible', width='15%')\n",
        "      else:\n",
        "        # modulators[str(f+1)][g*2+1].disabled = True\n",
        "        modulators[str(f+1)][g*2].layout = layout=widgets.Layout(visibility='hidden')\n",
        "        modulators[str(f+1)][g*2+1].layout = layout=widgets.Layout(visibility='hidden', width='15%')\n",
        "\n",
        "\n",
        "for f in range(1,5):\n",
        "\n",
        "  voices.append(\n",
        "      widgets.Checkbox(\n",
        "        value=0,\n",
        "        indent=False,\n",
        "        disabled=True,\n",
        "        layout=widgets.Layout(width='5%'))\n",
        "      )\n",
        "\n",
        "  indexes.append(\n",
        "      widgets.FloatSlider(\n",
        "        value=1.0, min=0.25, max=12.0, step=0.25,\n",
        "        layout=widgets.Layout(width='15%'))\n",
        "      )\n",
        "\n",
        "  if (str(f) in modulators):  \n",
        "    for g in range(1,f):\n",
        "      modulators[str(f)].append(\n",
        "        widgets.Label(\"%d→%d\" % (f, g))\n",
        "      )\n",
        "      modulators[str(f)].append(\n",
        "        widgets.FloatSlider( \n",
        "        value=1.0, min=0, max=12.0, step=0.5,\n",
        "        layout=widgets.Layout(width='15%'))\n",
        "      )\n",
        "\n",
        "\n",
        "\n",
        "gui_output = widgets.Output(layout={'border': '1px solid #999999', \n",
        "                             'padding': '15px',\n",
        "                             'margin': '15px'})\n",
        "\n",
        "wave_output = widgets.Output(layout={'padding': '15px 0 0 0'})\n",
        "\n",
        "\n",
        "\n",
        "with gui_output:\n",
        "  display(w_alg)\n",
        "  for f in range (3,-1,-1):\n",
        "    elements = [ widgets.Label('OP'+str(f+1)), voices[f], widgets.Label('Idx'), indexes[f]]\n",
        "    if str(f+1) in modulators:\n",
        "      elements = elements + modulators[str(f+1)]\n",
        "    display(widgets.HBox(elements))\n",
        "  \n",
        "  refresh_gui()\n",
        "  display(widgets.HBox([w_go, w_rand]))\n",
        "  display(wave_output)\n"
      ],
      "execution_count": null,
      "outputs": []
    },
    {
      "cell_type": "markdown",
      "metadata": {
        "id": "01sq5SNphbdb"
      },
      "source": [
        "### Synth"
      ]
    },
    {
      "cell_type": "code",
      "metadata": {
        "id": "36V4z1jDhZu-"
      },
      "source": [
        "display(gui_output)"
      ],
      "execution_count": null,
      "outputs": []
    },
    {
      "cell_type": "markdown",
      "metadata": {
        "id": "eF9HGpL-pygx"
      },
      "source": [
        "### One op"
      ]
    },
    {
      "cell_type": "code",
      "metadata": {
        "id": "74Yk3Tu3Pehf"
      },
      "source": [
        "print(\"Single op\")\n",
        "render(440, 1, 1, 0, 0, 0, 0, 0, 0, 0, 0, 0, 0, 0, 0)\n",
        "\n",
        "print(\"Single op, index 3\")\n",
        "render(440, 1, 3, 0, 0, 0, 0, 0, 0, 0, 0, 0, 0, 0, 0)\n"
      ],
      "execution_count": null,
      "outputs": []
    },
    {
      "cell_type": "markdown",
      "metadata": {
        "id": "PuXbKl_qp7Ae"
      },
      "source": [
        "### Two ops"
      ]
    },
    {
      "cell_type": "code",
      "metadata": {
        "id": "0E-jgXafpvNl"
      },
      "source": [
        "print(\"Ops in parallel, indexes 3 and 0.5\")\n",
        "render(440, 1, 3, 1, 0.5, 0, 0, 0, 0, 0, 0, 0, 0, 0, 0)\n",
        "\n",
        "# 2 -> 1\n",
        "print(\"Ops in series 2 -> 1\")\n",
        "render(440, 1, 1, 0, 1, 0, 0, 0, 0, 2, 0, 0, 0, 0, 0)\n",
        "\n",
        "print(\"Ops in series 2 -> 1\")\n",
        "render(440, 1, 1, 0, 0.5, 0, 0, 0, 0, 11, 0, 0, 0, 0, 0)\n",
        "\n",
        "print(\"Ops in series 2 -> 1\")\n",
        "render(440, 1, 1, 0, 0.01, 0, 0, 0, 0, 5, 0, 0, 0, 0, 0)\n",
        "#-----------------------------OP2 level = 98\n"
      ],
      "execution_count": null,
      "outputs": []
    },
    {
      "cell_type": "markdown",
      "metadata": {
        "id": "F3f3rIfZq2s0"
      },
      "source": [
        "### Three ops"
      ]
    },
    {
      "cell_type": "code",
      "metadata": {
        "id": "nCIlf9WdmBSB"
      },
      "source": [
        "print(\"Ops in parallel, indexes 0.5, 3 and 6 - Alg 25\")\n",
        "render(440, 1, 0.5, 1, 3, 1, 6, 0, 0, 0, 0, 0, 0, 0, 0)\n",
        "\n",
        "print(\"Alg 23\")\n",
        "render(440, 1, 0.5, 1, 1, 0, 1, 0, 0, 0, 0, 12, 0, 0, 0)\n",
        "\n",
        "print(\"Alg 3\")\n",
        "render(440, 1, 0.5, 0, 1, 0, 1, 0, 0, 11.5, 0, 12.5, 0, 0, 0)\n",
        "\n",
        "print(\"Alg 16\")\n",
        "render(440, 1, 0.5, 0, 1, 0, 1, 0, 0, 11.5, 12.5, 0, 0, 0, 0)\n",
        "\n",
        "print(\"Alg 21\")\n",
        "render(440, 1, 0.5, 1, 1, 0, 1, 0, 0, 0, 12.5, 12.5, 0, 0, 0)"
      ],
      "execution_count": null,
      "outputs": []
    },
    {
      "cell_type": "markdown",
      "metadata": {
        "id": "A_Rt7Fq6XUJY"
      },
      "source": [
        "### Four ops"
      ]
    },
    {
      "cell_type": "code",
      "metadata": {
        "id": "vkiqpc3kXWeO"
      },
      "source": [
        "print(\"Alg 2\")\n",
        "render(440, 1, 1, 0, 1.01, 0, 0.5, 0, 3, 12, 0, 11, 0, 0, 11)"
      ],
      "execution_count": null,
      "outputs": []
    },
    {
      "cell_type": "code",
      "metadata": {
        "id": "vamGs9g_emwm"
      },
      "source": [
        "raise SystemExit(\"Stop right there!\")"
      ],
      "execution_count": null,
      "outputs": []
    },
    {
      "cell_type": "markdown",
      "metadata": {
        "id": "dLmQ2VQ-nUrb"
      },
      "source": [
        "# AM Synth"
      ]
    },
    {
      "cell_type": "code",
      "metadata": {
        "id": "V4aUwETJY3m4"
      },
      "source": [
        "SAMPLE_RATE = 48000\n",
        "DURATION = 4\n",
        "\n",
        "N_SAMPLES = SAMPLE_RATE * DURATION\n",
        "\n",
        "am_synth = AmplitudeModulation(n_samples=N_SAMPLES,\n",
        "                               sample_rate=SAMPLE_RATE)"
      ],
      "execution_count": null,
      "outputs": []
    },
    {
      "cell_type": "markdown",
      "metadata": {
        "id": "EE0bJkh9JyHY"
      },
      "source": [
        "###Single frame"
      ]
    },
    {
      "cell_type": "code",
      "metadata": {
        "id": "utHuGQFdcuXD"
      },
      "source": [
        "car_amp = np.ones(1)[np.newaxis, :, np.newaxis]\n",
        "car_freq = 440.0 * np.ones(1)[np.newaxis, :, np.newaxis]\n",
        "\n",
        "mod_amp = 2 * np.ones(1)[np.newaxis, :, np.newaxis]\n",
        "mod_freq = 0.5 * np.ones(1)[np.newaxis, :, np.newaxis]\n",
        "\n",
        "audio = am_synth.get_signal(car_amp, car_freq, mod_amp, mod_freq)\n",
        "audio /= tf.reduce_max(audio[0,:], axis=0).numpy();\n",
        "\n",
        "display(Audio(audio, rate=SAMPLE_RATE, autoplay=False))\n",
        "specplot(audio)"
      ],
      "execution_count": null,
      "outputs": []
    },
    {
      "cell_type": "markdown",
      "metadata": {
        "id": "qc-udu_QJ9nV"
      },
      "source": [
        "### Multiple frames"
      ]
    },
    {
      "cell_type": "code",
      "metadata": {
        "id": "_SXDOTV0ESb_"
      },
      "source": [
        "FRAME_RATE = 250\n",
        "TIME_STEPS = FRAME_RATE * DURATION\n",
        "\n",
        "\n",
        "car_amp = np.concatenate((np.linspace(-10,1,100), np.ones(TIME_STEPS-100)), axis=0)\n",
        "car_amp = car_amp[np.newaxis, :, np.newaxis]\n",
        "\n",
        "car_freq = 440.0 * np.ones(TIME_STEPS)[np.newaxis, :, np.newaxis]\n",
        "\n",
        "mod_amp = np.linspace(-2,1,TIME_STEPS)[np.newaxis, :, np.newaxis]\n",
        "\n",
        "mod_freq = np.concatenate((2.0*np.ones(TIME_STEPS//2), np.linspace(2,50,TIME_STEPS//2)), axis=0)[np.newaxis, :, np.newaxis]\n",
        "\n",
        "audio = am_synth.get_signal(car_amp, car_freq, mod_amp, mod_freq)\n",
        "audio /= tf.reduce_max(audio[0,:], axis=0).numpy();\n",
        "\n",
        "display(Audio(audio, rate=SAMPLE_RATE, autoplay=False))\n",
        "specplot(audio)\n",
        "\n",
        "f, ax = plt.subplots(1, 2, figsize=(10.5, 3))\n",
        "ax[0].plot(car_amp[0,:,0])\n",
        "ax[0].plot(mod_amp[0,:,0])\n",
        "ax[0].set_ylabel('Amplitude')\n",
        "ax[0].set_xlabel('Frames')\n",
        "ax[0].legend(['Carrier', 'LFO'])\n",
        "ax[1].plot(mod_freq[0,:,0])\n",
        "ax[1].set_ylabel('Frequency (Hz)')\n",
        "ax[1].set_xlabel('Frames')\n",
        "_=ax[1].legend(['Carrier', 'LFO'])"
      ],
      "execution_count": null,
      "outputs": []
    },
    {
      "cell_type": "code",
      "metadata": {
        "id": "Uur_TIVRK_GV"
      },
      "source": [
        "raise SystemExit(\"Stop right there!\")"
      ],
      "execution_count": null,
      "outputs": []
    }
  ]
}