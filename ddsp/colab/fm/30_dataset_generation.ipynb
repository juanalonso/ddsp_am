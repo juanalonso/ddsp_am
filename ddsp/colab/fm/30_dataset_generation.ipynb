{
  "nbformat": 4,
  "nbformat_minor": 0,
  "metadata": {
    "colab": {
      "name": "30_dataset_generation.ipynb",
      "private_outputs": true,
      "provenance": [],
      "collapsed_sections": [],
      "authorship_tag": "ABX9TyOW4kd0iNjmYRtiMXDilVNc"
    },
    "kernelspec": {
      "name": "python3",
      "display_name": "Python 3"
    },
    "accelerator": "GPU"
  },
  "cells": [
    {
      "cell_type": "code",
      "metadata": {
        "id": "ZuXMisxAraKa"
      },
      "source": [
        "USE_PRIVATE_DISTRO = True\n",
        "DRIVE_BASE_DIR = '/content/drive/MyDrive/SMC 10/DDSP-10/' \n",
        "\n",
        "DRIVE_DISTRO = DRIVE_BASE_DIR + 'dist/ddsp-1.2.0.tar.gz'\n",
        "\n",
        "if USE_PRIVATE_DISTRO:\n",
        "    print(\"[INFO] Using private distro. Be careful.\")\n",
        "    from google.colab import drive\n",
        "    drive.mount('/content/drive')\n",
        "    !pip install -qU \"$DRIVE_DISTRO\"[data_preparation]\n",
        "else:\n",
        "    !pip install -qU ddsp[data_preparation]==1.2.0\n",
        "\n",
        "%tensorflow_version 2.x\n",
        "import tensorflow as tf\n",
        "\n",
        "from ddsp.colab.colab_utils import play, specplot\n",
        "from ddsp.synths import AmplitudeModulation\n",
        "from ddsp.training import data\n",
        "\n",
        "import glob\n",
        "import numpy as np\n",
        "import os\n",
        "import soundfile as sf\n",
        "import warnings\n",
        "\n",
        "import seaborn as sns\n",
        "import matplotlib.pyplot as plt\n",
        "%config InlineBackend.figure_format='retina'"
      ],
      "execution_count": null,
      "outputs": []
    },
    {
      "cell_type": "code",
      "metadata": {
        "id": "hm-Rmqkr4Dk_"
      },
      "source": [
        "sns.set(style=\"whitegrid\")\n",
        "warnings.filterwarnings(\"ignore\")"
      ],
      "execution_count": null,
      "outputs": []
    },
    {
      "cell_type": "markdown",
      "metadata": {
        "id": "dLmQ2VQ-nUrb"
      },
      "source": [
        "# AM Synth"
      ]
    },
    {
      "cell_type": "code",
      "metadata": {
        "id": "9utMT-oYZ-zL"
      },
      "source": [
        "OUTPUT_FOLDER = 'noadsr' #@param {type: \"string\"}\n",
        "\n",
        "DRIVE_AUDIO_DIR = DRIVE_BASE_DIR + 'audio/' + OUTPUT_FOLDER + '/'\n",
        "COLAB_AUDIO_DIR = 'data/audio/' \n",
        "AUDIO_FILEPATTERN = COLAB_AUDIO_DIR + '/*'\n",
        "\n",
        "!mkdir -p \"$DRIVE_AUDIO_DIR\"\n",
        "!mkdir -p \"$COLAB_AUDIO_DIR\""
      ],
      "execution_count": null,
      "outputs": []
    },
    {
      "cell_type": "code",
      "metadata": {
        "id": "V4aUwETJY3m4"
      },
      "source": [
        "FRAME_RATE = 250\n",
        "DURATION = 4\n",
        "\n",
        "n_frames = FRAME_RATE * DURATION\n",
        "\n",
        "\n",
        "#Carrier amp\n",
        "# carr_amp = np.concatenate((np.linspace(-10,1,25), \n",
        "#                            np.ones(575), \n",
        "#                            np.linspace(1,-10,250), \n",
        "#                            -10*np.ones(150)), axis=0)\n",
        "carr_amp = 3*np.ones(n_frames)\n",
        "carr_amp = carr_amp[np.newaxis, :, np.newaxis]\n",
        "\n",
        "\n",
        "#Modulator amp \n",
        "mod_amp = 3*np.ones(n_frames)\n",
        "mod_amp = mod_amp[np.newaxis, :, np.newaxis]\n",
        "\n",
        "\n",
        "for SAMPLE_RATE in [16000]:\n",
        "# for SAMPLE_RATE in [16000, 48000]:\n",
        "\n",
        "  n_samples = SAMPLE_RATE * DURATION\n",
        "  am_synth = AmplitudeModulation(n_samples=n_samples,\n",
        "                                 sample_rate=SAMPLE_RATE)\n",
        "  for freqs in [5, 125, 250]:\n",
        "  # for freqs in [5, 25, 125]:\n",
        "\n",
        "    INSTRUMENT = 'sr{}k_mf{}'.format(SAMPLE_RATE//1000, freqs)\n",
        "    DRIVE_AUDIOFILE = DRIVE_AUDIO_DIR + INSTRUMENT + '.wav'\n",
        "    COLAB_AUDIOFILE = COLAB_AUDIO_DIR + INSTRUMENT + '.wav'\n",
        "\n",
        "    print('1. Render ' + INSTRUMENT + '.wav')\n",
        "\n",
        "    #Mod freq \n",
        "    mod_freq = freqs * np.ones(n_frames)\n",
        "    mod_freq = mod_freq[np.newaxis, :, np.newaxis]\n",
        "\n",
        "    output = []\n",
        "\n",
        "    for f in range(0,24):\n",
        "\n",
        "      #Main freq\n",
        "      carr_freq = 220 * np.power(2, f/12) * np.ones(n_frames)\n",
        "      carr_freq = carr_freq[np.newaxis, :, np.newaxis]\n",
        "\n",
        "      audio = am_synth(carr_amp, carr_freq, mod_amp, mod_freq)\n",
        "      output = np.concatenate((output, audio[0]))\n",
        "\n",
        "    # display(Audio(output, rate=sample_rate, autoplay=False))\n",
        "    output /= np.max(np.abs(output),axis=0)*1.5\n",
        "    sf.write(DRIVE_AUDIOFILE, output, SAMPLE_RATE)\n",
        "\n",
        "    DRIVE_DATASET_DIR = DRIVE_AUDIO_DIR + INSTRUMENT + '_fr{}_dataset'.format(FRAME_RATE) \n",
        "    COLAB_RECORD = 'data/' + INSTRUMENT + '_fr{}_dataset/train.synthrecord'.format(FRAME_RATE) \n",
        "    RECORD_FILEPATTERN = COLAB_RECORD + '*'\n",
        "\n",
        "    !mkdir \"$DRIVE_DATASET_DIR\"\n",
        "\n",
        "    print('2. Copy {} to {}'.format(DRIVE_AUDIOFILE, COLAB_AUDIOFILE))\n",
        "    !cp \"$DRIVE_AUDIOFILE\" \"$COLAB_AUDIOFILE\"\n",
        "\n",
        "    print('3. Create ' + INSTRUMENT + '_fr{} dataset'.format(FRAME_RATE))\n",
        "    if not glob.glob(COLAB_AUDIOFILE):\n",
        "      raise ValueError('No audio files found')\n",
        "\n",
        "    !ddsp_dataset_from_notes \\\n",
        "    --input_audio_filepatterns=$COLAB_AUDIOFILE \\\n",
        "    --output_tfrecord_path=$COLAB_RECORD \\\n",
        "    --sample_rate=$SAMPLE_RATE \\\n",
        "    --frame_rate=$FRAME_RATE \\\n",
        "    --example_secs=4 \\\n",
        "    --midi_notes='57','58','59','60','61','62','63','64','65','66','67','68','69','70','71','72','73','74','75','76','77','78','79','80' \\\n",
        "    --alsologtostderr\n",
        "\n",
        "    print('4. Save to {}'.format(DRIVE_DATASET_DIR)) \n",
        "    !cp $RECORD_FILEPATTERN \"$DRIVE_DATASET_DIR\"\n",
        "\n",
        "    print('\\n\\n\\n')"
      ],
      "execution_count": null,
      "outputs": []
    },
    {
      "cell_type": "code",
      "metadata": {
        "id": "u_D11qjF7AaA"
      },
      "source": [
        ""
      ],
      "execution_count": null,
      "outputs": []
    }
  ]
}