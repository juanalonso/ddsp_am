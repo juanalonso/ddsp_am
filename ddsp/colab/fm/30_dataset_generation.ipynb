{
  "nbformat": 4,
  "nbformat_minor": 0,
  "metadata": {
    "colab": {
      "name": "30 dataset generation",
      "private_outputs": true,
      "provenance": [],
      "collapsed_sections": [],
      "authorship_tag": "ABX9TyN1dxgPGTydt+wkkUTsUHF6"
    },
    "kernelspec": {
      "name": "python3",
      "display_name": "Python 3"
    },
    "accelerator": "GPU"
  },
  "cells": [
    {
      "cell_type": "code",
      "metadata": {
        "id": "ZuXMisxAraKa"
      },
      "source": [
        "USE_PRIVATE_DISTRO = True\n",
        "DRIVE_BASE_DIR = '/content/drive/MyDrive/SMC 10/DDSP-10/' \n",
        "\n",
        "DRIVE_DISTRO = DRIVE_BASE_DIR + 'dist/ddsp-1.2.0.tar.gz'\n",
        "\n",
        "if USE_PRIVATE_DISTRO:\n",
        "    print(\"[INFO] Using private distro. Be careful.\")\n",
        "    from google.colab import drive\n",
        "    drive.mount('/content/drive')\n",
        "    !pip install -qU \"$DRIVE_DISTRO\"[data_preparation]\n",
        "else:\n",
        "    !pip install -qU ddsp[data_preparation]==1.2.0\n",
        "\n",
        "%tensorflow_version 2.x\n",
        "import tensorflow as tf\n",
        "\n",
        "from ddsp.colab.colab_utils import play, specplot\n",
        "from ddsp.synths import AmplitudeModulation\n",
        "from ddsp.training import data\n",
        "from ddsp import core\n",
        "\n",
        "import glob\n",
        "import numpy as np\n",
        "import os\n",
        "import soundfile as sf\n",
        "import warnings\n",
        "\n",
        "import seaborn as sns\n",
        "import matplotlib.pyplot as plt\n",
        "%config InlineBackend.figure_format='retina'"
      ],
      "execution_count": null,
      "outputs": []
    },
    {
      "cell_type": "code",
      "metadata": {
        "id": "hm-Rmqkr4Dk_"
      },
      "source": [
        "sns.set(style=\"whitegrid\")\n",
        "warnings.filterwarnings(\"ignore\")"
      ],
      "execution_count": null,
      "outputs": []
    },
    {
      "cell_type": "markdown",
      "metadata": {
        "id": "dLmQ2VQ-nUrb"
      },
      "source": [
        "# AM Synth"
      ]
    },
    {
      "cell_type": "code",
      "metadata": {
        "id": "9utMT-oYZ-zL"
      },
      "source": [
        "OUTPUT_FOLDER = 'am_timbre_transfer' #@param {type: \"string\"}\n",
        "\n",
        "DRIVE_AUDIO_DIR = DRIVE_BASE_DIR + 'audio/' + OUTPUT_FOLDER + '/'\n",
        "COLAB_AUDIO_DIR = 'data/audio/' \n",
        "AUDIO_FILEPATTERN = COLAB_AUDIO_DIR + '/*'\n",
        "\n",
        "!mkdir -p \"$DRIVE_AUDIO_DIR\"\n",
        "!mkdir -p \"$COLAB_AUDIO_DIR\""
      ],
      "execution_count": null,
      "outputs": []
    },
    {
      "cell_type": "code",
      "metadata": {
        "id": "V4aUwETJY3m4"
      },
      "source": [
        "FRAME_RATE = 250\n",
        "DURATION = 4\n",
        "\n",
        "TIME_STEPS = FRAME_RATE * DURATION\n",
        "\n",
        "MIDI_FROM = 57\n",
        "MIDI_TO = 81\n",
        "\n",
        "# Carrier amp\n",
        "# car_amp = np.concatenate((np.linspace(-20,1,25), \n",
        "#                            np.ones(575), \n",
        "#                            np.linspace(1,-10,250), \n",
        "#                            -10*np.ones(150)), axis=0)\n",
        "car_amp = 2*np.ones(TIME_STEPS)\n",
        "car_amp[:25] = np.linspace(-20,2,25)\n",
        "car_amp[-25:] = np.linspace(2,-20,25)\n",
        "car_amp = car_amp[np.newaxis, :, np.newaxis]\n",
        "\n",
        "\n",
        "# Modulator amp \n",
        "mod_amp = np.ones(TIME_STEPS)\n",
        "mod_amp = mod_amp[np.newaxis, :, np.newaxis]"
      ],
      "execution_count": null,
      "outputs": []
    },
    {
      "cell_type": "code",
      "metadata": {
        "id": "g11aBjdxlRXS"
      },
      "source": [
        "for SAMPLE_RATE in [16000, 48000]:\n",
        "\n",
        "  N_SAMPLES = SAMPLE_RATE * DURATION\n",
        "\n",
        "  am_synth = AmplitudeModulation(n_samples=N_SAMPLES,\n",
        "                                 sample_rate=SAMPLE_RATE)\n",
        "  for freqs in [5, 250]:\n",
        "\n",
        "    INSTRUMENT = 'sr{}k_mf{}'.format(SAMPLE_RATE//1000, freqs)\n",
        "    DRIVE_AUDIOFILE = DRIVE_AUDIO_DIR + INSTRUMENT + '.wav'\n",
        "    COLAB_AUDIOFILE = COLAB_AUDIO_DIR + INSTRUMENT + '.wav'\n",
        "\n",
        "    print('1. Render ' + INSTRUMENT + '.wav')\n",
        "\n",
        "    # Mod freq \n",
        "    mod_freq = freqs * np.ones(TIME_STEPS)\n",
        "    mod_freq = mod_freq[np.newaxis, :, np.newaxis]\n",
        "\n",
        "    output = []\n",
        "\n",
        "    notes = str(MIDI_FROM) + ',' + str(MIDI_TO)\n",
        "\n",
        "    for midinote in range(MIDI_FROM, MIDI_TO):\n",
        "\n",
        "      # Car freq\n",
        "      car_freq = core.midi_to_hz(midinote) * np.ones(TIME_STEPS)\n",
        "      car_freq = car_freq[np.newaxis, :, np.newaxis]\n",
        "\n",
        "      audio = am_synth(car_amp, car_freq, mod_amp, mod_freq)\n",
        "      output = np.concatenate((output, audio[0]))\n",
        "\n",
        "    output /= np.max(np.abs(output),axis=0)*1.1\n",
        "    sf.write(DRIVE_AUDIOFILE, output, SAMPLE_RATE)\n",
        "    # display(Audio(output, rate=sample_rate, autoplay=False))\n",
        "\n",
        "    DRIVE_DATASET_DIR = DRIVE_AUDIO_DIR + INSTRUMENT + '_dataset' \n",
        "    COLAB_RECORD = 'data/' + INSTRUMENT + '_dataset/train.synthrecord' \n",
        "    RECORD_FILEPATTERN = COLAB_RECORD + '*'\n",
        "\n",
        "    !mkdir \"$DRIVE_DATASET_DIR\"\n",
        "\n",
        "    print('2. Copy {} to {}'.format(DRIVE_AUDIOFILE, COLAB_AUDIOFILE))\n",
        "    !cp \"$DRIVE_AUDIOFILE\" \"$COLAB_AUDIOFILE\"\n",
        "\n",
        "    print('3. Create ' + INSTRUMENT + ' dataset')\n",
        "    if not glob.glob(COLAB_AUDIOFILE):\n",
        "      raise ValueError('No audio files found')\n",
        "\n",
        "    !ddsp_dataset_from_notes \\\n",
        "    --input_audio_filepatterns=$COLAB_AUDIOFILE \\\n",
        "    --output_tfrecord_path=$COLAB_RECORD \\\n",
        "    --sample_rate=$SAMPLE_RATE \\\n",
        "    --frame_rate=$FRAME_RATE \\\n",
        "    --example_secs=$DURATION \\\n",
        "    --midi_notes=$notes \\\n",
        "    --alsologtostderr\n",
        "\n",
        "    print('4. Save to {}'.format(DRIVE_DATASET_DIR)) \n",
        "    !cp $RECORD_FILEPATTERN \"$DRIVE_DATASET_DIR\"\n",
        "\n",
        "    print('\\n\\n\\n')"
      ],
      "execution_count": null,
      "outputs": []
    },
    {
      "cell_type": "code",
      "metadata": {
        "id": "u_D11qjF7AaA"
      },
      "source": [
        "# data_provider = data.SynthRecordProvider(RECORD_FILEPATTERN, \n",
        "#                                          sample_rate=SAMPLE_RATE,\n",
        "#                                          frame_rate=FRAME_RATE,\n",
        "#                                          example_secs=DURATION)\n",
        "# dataset = data_provider.get_batch(batch_size=1, shuffle=True, repeats=-1)\n",
        "# dataset_iter = iter(dataset)\n",
        "# for i in range (0,100):\n",
        "#   frame = next(dataset_iter)\n",
        "#   print(frame['f0_hz_midi'].numpy()[0][0])\n",
        "\n",
        "# next(dataset_iter)"
      ],
      "execution_count": null,
      "outputs": []
    },
    {
      "cell_type": "code",
      "metadata": {
        "id": "Q9i9cIhFvZbO"
      },
      "source": [
        ""
      ],
      "execution_count": null,
      "outputs": []
    }
  ]
}