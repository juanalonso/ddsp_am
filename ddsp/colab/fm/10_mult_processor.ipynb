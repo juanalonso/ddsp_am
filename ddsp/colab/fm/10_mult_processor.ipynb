{
  "nbformat": 4,
  "nbformat_minor": 0,
  "metadata": {
    "colab": {
      "name": "10 mult processor demo",
      "private_outputs": true,
      "provenance": [],
      "collapsed_sections": [],
      "authorship_tag": "ABX9TyPZURbrCxQ75CwN5tmI9EYE"
    },
    "kernelspec": {
      "name": "python3",
      "display_name": "Python 3"
    }
  },
  "cells": [
    {
      "cell_type": "markdown",
      "metadata": {
        "id": "z-CcT94PMne0"
      },
      "source": [
        "# `mult` processor demo"
      ]
    },
    {
      "cell_type": "code",
      "metadata": {
        "id": "ZuXMisxAraKa"
      },
      "source": [
        "USE_PRIVATE_DISTRO = True\n",
        "\n",
        "%tensorflow_version 2.x\n",
        "if USE_PRIVATE_DISTRO:\n",
        "    print(\"[INFO] Using private distro. Be careful.\")\n",
        "    from google.colab import drive\n",
        "    drive.mount('/content/drive')\n",
        "    !pip install -qU /content/drive/MyDrive/SMC\\ 10/DDSP-10/dist/ddsp-1.2.0.tar.gz\n",
        "else:\n",
        "    !pip install -qU ddsp\n",
        "\n",
        "# Ignore a bunch of deprecation warnings\n",
        "import warnings\n",
        "warnings.filterwarnings(\"ignore\")\n",
        "\n",
        "import numpy as np\n",
        "import tensorflow as tf\n",
        "\n",
        "import seaborn as sns\n",
        "import matplotlib.pyplot as plt\n",
        "%config InlineBackend.figure_format='retina'\n",
        "\n",
        "import ddsp\n",
        "import ddsp.training\n",
        "from ddsp.colab.colab_utils import play, specplot"
      ],
      "execution_count": null,
      "outputs": []
    },
    {
      "cell_type": "code",
      "metadata": {
        "id": "2wqYqxvytKUn"
      },
      "source": [
        "SAMPLE_RATE = 16000\n",
        "DURATION = 4\n",
        "\n",
        "N_SAMPLES = SAMPLE_RATE * DURATION"
      ],
      "execution_count": null,
      "outputs": []
    },
    {
      "cell_type": "markdown",
      "metadata": {
        "id": "KE11XvsiYkPd"
      },
      "source": [
        "### Define processors and synths"
      ]
    },
    {
      "cell_type": "code",
      "metadata": {
        "id": "fo7lUDLM7VPP"
      },
      "source": [
        "carrier = ddsp.synths.Harmonic(n_samples=N_SAMPLES, \n",
        "                            sample_rate=SAMPLE_RATE, \n",
        "                            name='carrier')\n",
        "lfo = ddsp.synths.Harmonic(n_samples=N_SAMPLES, \n",
        "                            sample_rate=SAMPLE_RATE, \n",
        "                            name='lfo')\n",
        "mult = ddsp.processors.Mult(name='mult')\n",
        "add = ddsp.processors.Add(name='add')"
      ],
      "execution_count": null,
      "outputs": []
    },
    {
      "cell_type": "code",
      "metadata": {
        "id": "KuiCBX6B6HjN"
      },
      "source": [
        "n_harmonics = 1\n",
        "\n",
        "# Create a sinusoid\n",
        "carrier_gain = np.ones(1)[np.newaxis, :, np.newaxis]\n",
        "carrier_harmonic_amps = np.ones((1, n_harmonics))[np.newaxis, :, :]\n",
        "carrier_f0_hz = 440.0 * np.ones(1)[np.newaxis, :, np.newaxis]\n",
        "\n",
        "# Create an LFO\n",
        "lfo_gain = np.ones(1)[np.newaxis, : , np.newaxis]\n",
        "lfo_harmonic_amps = np.ones((1,n_harmonics))[np.newaxis, :, :]\n",
        "lfo_f0_hz = 220.0 * np.ones(1)[np.newaxis, :, np.newaxis]\n",
        "\n",
        "inputs = {\n",
        "    'carrier_gain': carrier_gain,\n",
        "    'carrier_harmonic_amps': carrier_harmonic_amps,\n",
        "    'carrier_f0_hz': carrier_f0_hz,\n",
        "    'lfo_gain': lfo_gain,\n",
        "    'lfo_harmonic_amps': lfo_harmonic_amps,\n",
        "    'lfo_f0_hz': lfo_f0_hz,\n",
        "}\n",
        "inputs = {k: v.astype(np.float32) for k, v in inputs.items()}"
      ],
      "execution_count": null,
      "outputs": []
    },
    {
      "cell_type": "markdown",
      "metadata": {
        "id": "D7kRp6ft-6Xa"
      },
      "source": [
        "### Define DAG"
      ]
    },
    {
      "cell_type": "code",
      "metadata": {
        "id": "OaH8wgpzQnyR"
      },
      "source": [
        "dag = [\n",
        "  (carrier, ['carrier_gain', 'carrier_harmonic_amps', 'carrier_f0_hz']),\n",
        "  (lfo, ['lfo_gain', 'lfo_harmonic_amps', 'lfo_f0_hz']),\n",
        "  (mult, ['carrier/signal', 'lfo/signal']),\n",
        "  (add, ['carrier/signal', 'mult/signal']),\n",
        "]\n",
        "processor_group = ddsp.processors.ProcessorGroup(dag=dag)\n",
        "controls = processor_group.get_controls(inputs)"
      ],
      "execution_count": null,
      "outputs": []
    },
    {
      "cell_type": "markdown",
      "metadata": {
        "id": "-FkpgNI9Q2U2"
      },
      "source": [
        "### Ring modulation"
      ]
    },
    {
      "cell_type": "code",
      "metadata": {
        "id": "8ELwKWpGYedy"
      },
      "source": [
        "audio = controls['mult']['signal'] / np.max(np.abs(controls['mult']['signal']))\n",
        "\n",
        "play(audio, sample_rate=SAMPLE_RATE)\n",
        "specplot(audio)\n",
        "\n",
        "f, ax = plt.subplots(1, 2, figsize=(10.5, 3), sharey=True)\n",
        "ax[0].plot(controls['carrier']['signal'][0,:256])\n",
        "ax[0].plot(controls['lfo']['signal'][0,:256])\n",
        "ax[0].set_ylabel('Amplitude')\n",
        "ax[0].set_xlabel('Samples')\n",
        "ax[0].legend(['Carrier', 'LFO'])\n",
        "ax[1].plot(audio[0,:256])\n",
        "ax[1].legend(['Output (Ring mod.)'])\n",
        "_ = ax[1].set_xlabel('Samples')"
      ],
      "execution_count": null,
      "outputs": []
    },
    {
      "cell_type": "markdown",
      "metadata": {
        "id": "ueP9JHlfZHTC"
      },
      "source": [
        "### Amplitude modulation"
      ]
    },
    {
      "cell_type": "code",
      "metadata": {
        "id": "I14zp2jmZNre"
      },
      "source": [
        "audio = controls['add']['signal'] / np.max(np.abs(controls['add']['signal']))\n",
        "\n",
        "play(audio, sample_rate=SAMPLE_RATE)\n",
        "specplot(audio)\n",
        "\n",
        "f, ax = plt.subplots(1, 2, figsize=(10.5, 3), sharey=True)\n",
        "ax[0].plot(controls['carrier']['signal'][0,:256])\n",
        "ax[0].plot(controls['lfo']['signal'][0,:256])\n",
        "ax[0].set_ylabel('Amplitude')\n",
        "ax[0].set_xlabel('Samples')\n",
        "ax[0].legend(['Carrier', 'LFO'])\n",
        "ax[1].plot(audio[0,:256])\n",
        "ax[1].legend(['Output (Ring mod.)'])\n",
        "_ = ax[1].set_xlabel('Samples')"
      ],
      "execution_count": null,
      "outputs": []
    }
  ]
}