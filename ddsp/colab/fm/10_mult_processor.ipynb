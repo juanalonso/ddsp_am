{
  "nbformat": 4,
  "nbformat_minor": 0,
  "metadata": {
    "colab": {
      "name": "MT_20_mult.ipynb",
      "private_outputs": true,
      "provenance": [],
      "collapsed_sections": [],
      "authorship_tag": "ABX9TyPMMAFEE68aJ+XPH251XwB+"
    },
    "kernelspec": {
      "name": "python3",
      "display_name": "Python 3"
    }
  },
  "cells": [
    {
      "cell_type": "markdown",
      "metadata": {
        "id": "z-CcT94PMne0"
      },
      "source": [
        "# `mult` processor demo"
      ]
    },
    {
      "cell_type": "code",
      "metadata": {
        "id": "ZuXMisxAraKa"
      },
      "source": [
        "USE_PRIVATE_DISTRO = True\n",
        "\n",
        "%tensorflow_version 2.x\n",
        "if USE_PRIVATE_DISTRO:\n",
        "    print(\"[INFO] Using private distro. Be careful.\")\n",
        "    from google.colab import drive\n",
        "    drive.mount('/content/drive')\n",
        "    !pip install -qU /content/drive/MyDrive/SMC\\ 10/DDSP-10/dist/ddsp-1.2.0.tar.gz\n",
        "else:\n",
        "    !pip install -qU ddsp\n",
        "\n",
        "# Ignore a bunch of deprecation warnings\n",
        "import warnings\n",
        "warnings.filterwarnings(\"ignore\")\n",
        "\n",
        "import ddsp\n",
        "import ddsp.training\n",
        "from ddsp.colab.colab_utils import play, specplot\n",
        "import matplotlib.pyplot as plt\n",
        "import numpy as np\n",
        "import tensorflow as tf"
      ],
      "execution_count": null,
      "outputs": []
    },
    {
      "cell_type": "code",
      "metadata": {
        "id": "2wqYqxvytKUn"
      },
      "source": [
        "SAMPLE_RATE = 48000\n",
        "FRAME_RATE = 250\n",
        "DURATION = 4\n",
        "\n",
        "TIME_STEPS = FRAME_RATE * DURATION\n",
        "N_SAMPLES = SAMPLE_RATE * DURATION"
      ],
      "execution_count": null,
      "outputs": []
    },
    {
      "cell_type": "code",
      "metadata": {
        "id": "fo7lUDLM7VPP"
      },
      "source": [
        "carrier = ddsp.synths.Harmonic(n_samples=N_SAMPLES, \n",
        "                            sample_rate=SAMPLE_RATE, \n",
        "                            name='carrier')\n",
        "lfo = ddsp.synths.Harmonic(n_samples=N_SAMPLES, \n",
        "                            sample_rate=SAMPLE_RATE, \n",
        "                            name='lfo')\n",
        "mult = ddsp.processors.Mult(name='mult')\n",
        "\n",
        "dag = [\n",
        "  (carrier, ['carrier_gain', 'carrier_harmonic_amps', 'carrier_f0_hz']),\n",
        "  (lfo, ['lfo_gain', 'lfo_harmonic_amps', 'lfo_f0_hz']),\n",
        "  (mult, ['carrier/signal', 'lfo/signal']),\n",
        "]"
      ],
      "execution_count": null,
      "outputs": []
    },
    {
      "cell_type": "code",
      "metadata": {
        "id": "KuiCBX6B6HjN"
      },
      "source": [
        "n_harmonics = 1\n",
        "\n",
        "# Create a sinusoid\n",
        "carrier_gain = np.ones(TIME_STEPS)[np.newaxis, :, np.newaxis]\n",
        "carrier_harmonic_amps = np.ones((TIME_STEPS, n_harmonics))[np.newaxis, :, :]\n",
        "carrier_f0_hz = 440.0 * np.ones(TIME_STEPS)[np.newaxis, :, np.newaxis]\n",
        "\n",
        "# Create an LFO\n",
        "lfo_gain = np.ones(TIME_STEPS)[np.newaxis, : , np.newaxis]\n",
        "lfo_harmonic_amps = np.ones((TIME_STEPS,n_harmonics))[np.newaxis, :, :]\n",
        "lfo_f0_hz = 2.0 * np.ones(TIME_STEPS)[np.newaxis, :, np.newaxis]\n",
        "\n",
        "inputs = {\n",
        "    'carrier_gain': carrier_gain,\n",
        "    'carrier_harmonic_amps': carrier_harmonic_amps,\n",
        "    'carrier_f0_hz': carrier_f0_hz,\n",
        "    'lfo_gain': lfo_gain,\n",
        "    'lfo_harmonic_amps': lfo_harmonic_amps,\n",
        "    'lfo_f0_hz': lfo_f0_hz,\n",
        "}\n",
        "inputs = {k: v.astype(np.float32) for k, v in inputs.items()}\n",
        "\n",
        "processor_group = ddsp.processors.ProcessorGroup(dag=dag)\n",
        "audio_out = processor_group(inputs)\n",
        "\n",
        "play(audio_out, sample_rate=SAMPLE_RATE)\n",
        "specplot(audio_out)"
      ],
      "execution_count": null,
      "outputs": []
    }
  ]
}