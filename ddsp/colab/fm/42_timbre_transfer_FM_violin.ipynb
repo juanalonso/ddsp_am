{
  "nbformat": 4,
  "nbformat_minor": 0,
  "metadata": {
    "accelerator": "GPU",
    "colab": {
      "name": "42_timbre_transfer_FM_violin",
      "provenance": [],
      "collapsed_sections": []
    },
    "kernelspec": {
      "display_name": "Python 3",
      "name": "python3"
    }
  },
  "cells": [
    {
      "cell_type": "markdown",
      "metadata": {
        "id": "ZFIqwYGbZ-df"
      },
      "source": [
        "# Timbre transfer FM\n",
        "\n"
      ]
    },
    {
      "cell_type": "code",
      "metadata": {
        "id": "S_jXCnwZ2QYW"
      },
      "source": [
        "USE_PRIVATE_DISTRO = True\n",
        "\n",
        "DRIVE_BASE_DIR = '/content/drive/MyDrive/SMC 10/DDSP-10/' \n",
        "DRIVE_DISTRO = DRIVE_BASE_DIR + 'dist/ddsp-1.2.0.tar.gz'\n",
        "\n",
        "if USE_PRIVATE_DISTRO:\n",
        "    print(\"[INFO] Using private distro.\")\n",
        "    from google.colab import drive\n",
        "    drive.mount('/content/drive')\n",
        "    !pip install -qU \"$DRIVE_DISTRO\"\n",
        "else:\n",
        "    !pip install -qU ddsp\n",
        "\n",
        "import warnings\n",
        "import gin\n",
        "\n",
        "import tensorflow as tf\n",
        "\n",
        "%reload_ext tensorboard\n",
        "import tensorboard as tb\n",
        "\n",
        "import seaborn as sns\n",
        "import matplotlib.pyplot as plt\n",
        "%config InlineBackend.figure_format='retina'\n",
        "\n",
        "from ddsp.colab.colab_utils import specplot\n",
        "from ddsp.colab.colab_utils import play\n",
        "from ddsp.training import data\n",
        "from ddsp.training import models\n",
        "from ddsp import core"
      ],
      "execution_count": null,
      "outputs": []
    },
    {
      "cell_type": "markdown",
      "metadata": {
        "id": "zpetvejYO0KQ"
      },
      "source": [
        "#### Configuration"
      ]
    },
    {
      "cell_type": "code",
      "metadata": {
        "id": "mkFYv_DUZ7lW"
      },
      "source": [
        "SAMPLE_RATE = 16000\n",
        "DURATION = 4\n",
        "FRAME_RATE = 250\n",
        "\n",
        "TIME_STEPS = FRAME_RATE * DURATION\n",
        "N_SAMPLES = SAMPLE_RATE * DURATION\n",
        "\n",
        "UNITS = 256\n",
        "\n",
        "INSTRUMENT = 'violin'\n",
        "\n",
        "sns.set(style=\"whitegrid\")\n",
        "warnings.filterwarnings(\"ignore\")\n",
        "\n",
        "OUTPUT_FOLDER = 'fm_timbretrans_02_ar_fixed' #@param {type: \"string\"}\n",
        "\n",
        "DRIVE_CHECKPOINTS_DIR = DRIVE_BASE_DIR + 'audio/' + OUTPUT_FOLDER + '/' + \\\n",
        "                         INSTRUMENT + '_checkpoints_'+str(UNITS)+'units/'\n",
        "\n",
        "DRIVE_TFRECORD_PATTERN = DRIVE_BASE_DIR + 'audio/' + OUTPUT_FOLDER + '/' + \\\n",
        "                         INSTRUMENT + '_dataset/train.tfrecord*'\n",
        "\n",
        "!mkdir -p \"$DRIVE_CHECKPOINTS_DIR\""
      ],
      "execution_count": null,
      "outputs": []
    },
    {
      "cell_type": "markdown",
      "metadata": {
        "id": "Op0V8onI0VUK"
      },
      "source": [
        "#### Start Tensorboard"
      ]
    },
    {
      "cell_type": "code",
      "metadata": {
        "id": "hBvbrMQvGzK9"
      },
      "source": [
        "tb.notebook.start('--logdir \"{}\"'.format(DRIVE_CHECKPOINTS_DIR))"
      ],
      "execution_count": null,
      "outputs": []
    },
    {
      "cell_type": "markdown",
      "metadata": {
        "id": "Q9D9ozX6PAXB"
      },
      "source": [
        "#### Train the model"
      ]
    },
    {
      "cell_type": "code",
      "metadata": {
        "id": "VDGtUMk3PGGy"
      },
      "source": [
        "!ddsp_run \\\n",
        "  --mode=train \\\n",
        "  --alsologtostderr \\\n",
        "  --stop_at_nan \\\n",
        "  --save_dir=\"$DRIVE_CHECKPOINTS_DIR\" \\\n",
        "  --gin_file=models/fm_violin.gin \\\n",
        "  --gin_file=datasets/tfrecord.gin \\\n",
        "  --gin_param=\"TFRecordProvider.file_pattern='$DRIVE_TFRECORD_PATTERN'\" \\\n",
        "  --gin_param=\"TFRecordProvider.sample_rate=$SAMPLE_RATE\" \\\n",
        "  --gin_param=\"TFRecordProvider.frame_rate=$FRAME_RATE\" \\\n",
        "  --gin_param=\"TFRecordProvider.example_secs=$DURATION\" \\\n",
        "  --gin_param=\"RnnFcDecoder.rnn_channels=$UNITS\" \\\n",
        "  --gin_param=\"RnnFcDecoder.ch=$UNITS\" \\\n",
        "  --gin_param=\"FrequencyModulation.n_samples=$N_SAMPLES\" \\\n",
        "  --gin_param=\"FrequencyModulation.sample_rate=$SAMPLE_RATE\" \\\n",
        "  --gin_param=\"FrequencyModulation.ar_scale=True\" \\\n",
        "  --gin_param=\"FrequencyModulation.index_scale=True\" \\\n",
        "  --gin_param=\"train_util.train.batch_size=16\" \\\n",
        "  --gin_param=\"train_util.train.num_steps=30000\" \\\n",
        "  --gin_param=\"train_util.train.steps_per_save=100\" \\\n",
        "  --gin_param=\"train_util.train.steps_per_summary=50\" \\\n",
        "  --gin_param=\"Trainer.checkpoints_to_keep=2\" \\\n",
        "  --gin_param=\"Trainer.learning_rate=0.0001\" \\\n",
        "  --gin_param=\"FilteredNoise.n_samples=$N_SAMPLES\" \\\n",
        "  --early_stop_loss_value=4 \\"
      ],
      "execution_count": null,
      "outputs": []
    },
    {
      "cell_type": "markdown",
      "metadata": {
        "id": "Ep_TMUitRz6y"
      },
      "source": [
        "#### Load pretrained model"
      ]
    },
    {
      "cell_type": "code",
      "metadata": {
        "id": "qaS1PmlqR3JB"
      },
      "source": [
        "data_provider_eval = data.TFRecordProvider(DRIVE_TFRECORD_PATTERN, \n",
        "                                           sample_rate=SAMPLE_RATE,\n",
        "                                           frame_rate=FRAME_RATE,\n",
        "                                           example_secs=DURATION)\n",
        "dataset_eval = data_provider_eval.get_batch(batch_size=1, shuffle=True, repeats=-1)\n",
        "dataset_eval_iter = iter(dataset_eval)\n",
        "\n",
        "gin_file = DRIVE_CHECKPOINTS_DIR + 'operative_config-0.gin'\n",
        "gin.parse_config_file(gin_file)\n",
        "\n",
        "model = models.Autoencoder()\n",
        "model.restore(DRIVE_CHECKPOINTS_DIR)\n",
        "\n",
        "for f in range(12):\n",
        "  frame = next(dataset_eval_iter)"
      ],
      "execution_count": null,
      "outputs": []
    },
    {
      "cell_type": "code",
      "metadata": {
        "id": "jJNBloZ84hcW"
      },
      "source": [
        "frame = next(dataset_eval_iter)\n",
        "audio_baseline = frame['audio']\n",
        "\n",
        "controls = model(frame, training=False)\n",
        "audio_full = model.get_audio_from_outputs(controls)\n",
        "audio_full /= tf.reduce_max(audio_full[0,:], axis=0).numpy()*1.5\n",
        "\n",
        "print('Original Audio')\n",
        "play(audio_baseline, sample_rate=SAMPLE_RATE)\n",
        "\n",
        "print('Full reconstruction')\n",
        "play(audio_full, sample_rate=SAMPLE_RATE)\n",
        "\n",
        "for synth in ['harmonic', 'fm', 'filtered_noise']:\n",
        "  if synth in controls:\n",
        "    print('Only ' + synth)\n",
        "    play(controls[synth]['signal'], sample_rate=SAMPLE_RATE)\n",
        "\n",
        "specplot(audio_baseline)\n",
        "specplot(audio_full)\n",
        "specplot(controls['fm']['signal'])\n",
        "\n",
        "# get = lambda key: core.nested_lookup(key, controls)[0] #batch 0\n",
        "\n",
        "# amps = get('fm/controls/amps')\n",
        "# mod_amps = get('fm/controls/mod_amps')\n",
        "\n",
        "# f0 = get('fm/controls/f0_hz')\n",
        "# mod_f0 = get('fm/controls/mod_f0_hz')"
      ],
      "execution_count": null,
      "outputs": []
    },
    {
      "cell_type": "code",
      "metadata": {
        "id": "i-IzBMyVST7d"
      },
      "source": [
        "c = controls['fm']['controls']\n",
        "f, ax = plt.subplots(5, 1, figsize=(10, 10), sharex=True)\n",
        "# f.suptitle('Inferred controls', fontsize=14)\n",
        "\n",
        "ax[0].plot(c['op1'][0,:,0])\n",
        "ax[0].plot(c['op2'][0,:,0])\n",
        "ax[0].plot(c['op3'][0,:,0])\n",
        "ax[0].plot(c['op4'][0,:,0])\n",
        "ax[0].legend(['op1','op2','op3','op4'])\n",
        "ax[0].set_title('Amplitude')\n",
        "ax[0].set_ylim(0)\n",
        "\n",
        "# *c['f0'][0,:,0]\n",
        "ax[1].plot(c['op1'][0,:,1])\n",
        "ax[1].plot(c['op2'][0,:,1])\n",
        "ax[1].plot(c['op3'][0,:,1])\n",
        "ax[1].plot(c['op4'][0,:,1])\n",
        "ax[1].legend(['op1','op2','op3','op4'])\n",
        "ax[1].set_title('Index')\n",
        "\n",
        "ax[2].plot(c['op1'][0,:,2])\n",
        "ax[2].plot(c['op2'][0,:,2])\n",
        "ax[2].plot(c['op3'][0,:,2])\n",
        "ax[2].plot(c['op4'][0,:,2])\n",
        "ax[2].legend(['op1','op2','op3','op4'])\n",
        "ax[2].set_title('Attack')\n",
        "ax[2].set_ylim(0)\n",
        "\n",
        "for mod in range(6):\n",
        "  ax[4].plot(c['modulators'][0,:,mod])\n",
        "ax[4].legend(['m21','m31','m32','m41','m42','m43'])\n",
        "ax[4].set_ylim(0)\n",
        "_=ax[4].set_title('Modulator')"
      ],
      "execution_count": null,
      "outputs": []
    },
    {
      "cell_type": "code",
      "metadata": {
        "id": "7q-rQHL1PAuS"
      },
      "source": [
        "raise SystemExit(\"Stop right there!\")"
      ],
      "execution_count": null,
      "outputs": []
    }
  ]
}